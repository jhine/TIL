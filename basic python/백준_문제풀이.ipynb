{
  "nbformat": 4,
  "nbformat_minor": 0,
  "metadata": {
    "colab": {
      "name": "백준 문제풀이.ipynb",
      "provenance": [],
      "collapsed_sections": [],
      "toc_visible": true,
      "authorship_tag": "ABX9TyPy/2RvotFWyZ0eM9Wjp5+m",
      "include_colab_link": true
    },
    "kernelspec": {
      "name": "python3",
      "display_name": "Python 3"
    },
    "language_info": {
      "name": "python"
    }
  },
  "cells": [
    {
      "cell_type": "markdown",
      "metadata": {
        "id": "view-in-github",
        "colab_type": "text"
      },
      "source": [
        "<a href=\"https://colab.research.google.com/github/jhine/TIL/blob/master/%EB%B0%B1%EC%A4%80_%EB%AC%B8%EC%A0%9C%ED%92%80%EC%9D%B4.ipynb\" target=\"_parent\"><img src=\"https://colab.research.google.com/assets/colab-badge.svg\" alt=\"Open In Colab\"/></a>"
      ]
    },
    {
      "cell_type": "markdown",
      "metadata": {
        "id": "cRDTr09rE1Xg"
      },
      "source": [
        "# 백준 "
      ]
    },
    {
      "cell_type": "markdown",
      "metadata": {
        "id": "UNsmXYpyFb5k"
      },
      "source": [
        "## A+B 유형 (1~8)"
      ]
    },
    {
      "cell_type": "markdown",
      "metadata": {
        "id": "UyvVhEyDFfPM"
      },
      "source": [
        "### A+B - 1"
      ]
    },
    {
      "cell_type": "code",
      "metadata": {
        "id": "MYfWgzSuE4Ac"
      },
      "source": [
        ""
      ],
      "execution_count": null,
      "outputs": []
    },
    {
      "cell_type": "markdown",
      "metadata": {
        "id": "qzJb1ZT9IzbU"
      },
      "source": [
        "# 별찍기 (1~8)"
      ]
    },
    {
      "cell_type": "markdown",
      "metadata": {
        "id": "bOsCt8ooI6dk"
      },
      "source": [
        "### 별찍기 1\n",
        "\n",
        "```\n",
        "*\n",
        "**\n",
        "***\n",
        "****\n",
        "*****\n",
        "```"
      ]
    },
    {
      "cell_type": "code",
      "metadata": {
        "colab": {
          "base_uri": "https://localhost:8080/"
        },
        "id": "P6skVmJhI51s",
        "outputId": "52226ff4-6e80-436e-f484-eeb14e1c6031"
      },
      "source": [
        "#직사각형 루프\n",
        "#for n loop\n",
        "#for * loop -> n번째 라인을 n번 반복하도록 루프 설정\n",
        "n = 5\n",
        "\n",
        "for i in range(n):\n",
        "  for j in range(n+1):\n",
        "    print('*', end= ' ')\n",
        "  print()\n",
        "\n"
      ],
      "execution_count": 17,
      "outputs": [
        {
          "output_type": "stream",
          "name": "stdout",
          "text": [
            "* * * * * * \n",
            "* * * * * * \n",
            "* * * * * * \n",
            "* * * * * * \n",
            "* * * * * * \n"
          ]
        }
      ]
    },
    {
      "cell_type": "code",
      "metadata": {
        "colab": {
          "base_uri": "https://localhost:8080/"
        },
        "id": "mEQm67SEOVND",
        "outputId": "af763dfa-02e2-4edf-f71d-507fdb12d435"
      },
      "source": [
        "#별찍기 \n",
        "n=int(input())\n",
        "\n",
        "for i in range(n):\n",
        "  for j in range(i+1):\n",
        "    print('*', end= ' ')\n",
        "  print()"
      ],
      "execution_count": 84,
      "outputs": [
        {
          "output_type": "stream",
          "name": "stdout",
          "text": [
            "5\n",
            "* \n",
            "* * \n",
            "* * * \n",
            "* * * * \n",
            "* * * * * \n"
          ]
        }
      ]
    },
    {
      "cell_type": "markdown",
      "metadata": {
        "id": "K3z7bRaZOcpD"
      },
      "source": [
        "### 별찍기 2\n",
        "\n",
        "```\n",
        "        * \n",
        "      * * \n",
        "    * * * \n",
        "  * * * * \n",
        "* * * * * \n",
        "```\n"
      ]
    },
    {
      "cell_type": "code",
      "metadata": {
        "colab": {
          "base_uri": "https://localhost:8080/"
        },
        "id": "hN-kJzl1Oeyr",
        "outputId": "832cd37b-9a0f-4450-c44d-1423512ae39d"
      },
      "source": [
        "# *앞에 공백이 포함되어있음\n",
        "n=int(input())\n",
        "\n",
        "for i in range(n):\n",
        "  for k in range(n-i):\n",
        "    print(' ', end= ' ')\n",
        "  for j in range(i+1):\n",
        "\n",
        "      print('*', end= ' ')\n",
        "  print()"
      ],
      "execution_count": 96,
      "outputs": [
        {
          "output_type": "stream",
          "name": "stdout",
          "text": [
            "5\n",
            "          * \n",
            "        * * \n",
            "      * * * \n",
            "    * * * * \n",
            "  * * * * * \n"
          ]
        }
      ]
    },
    {
      "cell_type": "markdown",
      "metadata": {
        "id": "YYX6pEf7UMiK"
      },
      "source": [
        "### 별찍기 3\n",
        "\n",
        "```\n",
        "*****\n",
        "****\n",
        "***\n",
        "**\n",
        "*\n",
        "```\n"
      ]
    },
    {
      "cell_type": "code",
      "metadata": {
        "colab": {
          "base_uri": "https://localhost:8080/"
        },
        "id": "vutqKfoPUN8a",
        "outputId": "66fd4ac4-4df1-4cfe-d4bf-3e751b7f3e1d"
      },
      "source": [
        "n=int(input())\n",
        "for i in range(n):\n",
        "  for j in range(n-i):\n",
        "    print('*', end= ' ')\n",
        "  print()"
      ],
      "execution_count": 82,
      "outputs": [
        {
          "output_type": "stream",
          "name": "stdout",
          "text": [
            "5\n",
            "* * * * * \n",
            "* * * * \n",
            "* * * \n",
            "* * \n",
            "* \n"
          ]
        }
      ]
    },
    {
      "cell_type": "markdown",
      "metadata": {
        "id": "lX9TDYN0V9Wy"
      },
      "source": [
        "### 별찍기 4\n",
        "\n",
        "```\n",
        "*****\n",
        " ****\n",
        "  ***\n",
        "   **\n",
        "    *\n",
        "```    "
      ]
    },
    {
      "cell_type": "code",
      "metadata": {
        "colab": {
          "base_uri": "https://localhost:8080/"
        },
        "id": "w8ZAOQ-DXb2j",
        "outputId": "31be2639-8253-4cb9-a4f4-9747ec3baa59"
      },
      "source": [
        "n=int(input())\n",
        "for i in range(n):\n",
        "  for k in range(i):\n",
        "    print(' ', end='')\n",
        "  for j in range(n-i):\n",
        "      print('*', end='')\n",
        "  print()"
      ],
      "execution_count": 101,
      "outputs": [
        {
          "output_type": "stream",
          "name": "stdout",
          "text": [
            "5\n",
            "*****\n",
            " ****\n",
            "  ***\n",
            "   **\n",
            "    *\n"
          ]
        }
      ]
    },
    {
      "cell_type": "code",
      "metadata": {
        "colab": {
          "base_uri": "https://localhost:8080/"
        },
        "id": "YGxXMRerd1qj",
        "outputId": "83d2f02a-6eb2-4f33-eb39-e4e41633cbc9"
      },
      "source": [
        "#나는 이해라는 것을 하지 못하는 열등하고 하찮은 존재입니다\n",
        "#틀린예시\n",
        "n=int(input())\n",
        "for i in range(n):\n",
        "  for k in range(i-1+n):\n",
        "    print(' ', end= ' ')\n",
        "  for j in range(n-i):\n",
        "\n",
        "      print('*', end= ' ')\n",
        "  print()\n"
      ],
      "execution_count": 93,
      "outputs": [
        {
          "output_type": "stream",
          "name": "stdout",
          "text": [
            "5\n",
            "        * * * * * \n",
            "          * * * * \n",
            "            * * * \n",
            "              * * \n",
            "                * \n"
          ]
        }
      ]
    },
    {
      "cell_type": "markdown",
      "metadata": {
        "id": "l-pmvyWTZoqC"
      },
      "source": [
        "### 별찍기 5\n",
        "\n",
        "```\n",
        "    *\n",
        "   ***\n",
        "  *****\n",
        " *******\n",
        "*********\n",
        "```\n"
      ]
    },
    {
      "cell_type": "code",
      "metadata": {
        "id": "9LE5DvguZo8y"
      },
      "source": [
        "#정사각형\n",
        "n = 5\n",
        "\n",
        "for i in range(n):\n",
        "  for j in range(n+1):\n",
        "    print('*', end= ' ')\n",
        "  print()"
      ],
      "execution_count": null,
      "outputs": []
    },
    {
      "cell_type": "code",
      "metadata": {
        "colab": {
          "base_uri": "https://localhost:8080/"
        },
        "id": "upAtPaQJhUL7",
        "outputId": "0d19f6ca-17d1-4d4f-91b7-fecccc154a24"
      },
      "source": [
        "n=5\n",
        "for i in range(1, n+1):\n",
        "  for k in range(n-i):\n",
        "    print(' ', end= ' ')\n",
        "  for j in range(2*i-1):\n",
        "    print('*', end=' ')\n",
        "  print() "
      ],
      "execution_count": 110,
      "outputs": [
        {
          "output_type": "stream",
          "name": "stdout",
          "text": [
            "        * \n",
            "      * * * \n",
            "    * * * * * \n",
            "  * * * * * * * \n",
            "* * * * * * * * * \n"
          ]
        }
      ]
    },
    {
      "cell_type": "code",
      "metadata": {
        "colab": {
          "base_uri": "https://localhost:8080/"
        },
        "id": "zbfO4ejqibkg",
        "outputId": "aeee19f8-192b-442a-c49a-3df763bf5369"
      },
      "source": [
        "n=int(input())\n",
        "for i in range(1, n+1):\n",
        "  for k in range(n-i):\n",
        "    print(' ', end= ' ')\n",
        "  for j in range(2*i-1):\n",
        "    print('*', end=' ')\n",
        "  print()"
      ],
      "execution_count": 111,
      "outputs": [
        {
          "output_type": "stream",
          "name": "stdout",
          "text": [
            "5\n",
            "        * \n",
            "      * * * \n",
            "    * * * * * \n",
            "  * * * * * * * \n",
            "* * * * * * * * * \n"
          ]
        }
      ]
    },
    {
      "cell_type": "markdown",
      "metadata": {
        "id": "nGMLH0Ta-WdN"
      },
      "source": [
        "# 1차원 배열 단계"
      ]
    },
    {
      "cell_type": "markdown",
      "metadata": {
        "id": "DQAdueLR-nZ1"
      },
      "source": [
        "### 최소 최대 1018"
      ]
    },
    {
      "cell_type": "code",
      "metadata": {
        "colab": {
          "base_uri": "https://localhost:8080/"
        },
        "id": "FiR5RwhD-W9V",
        "outputId": "8a691b18-04b4-48cb-9489-6c5cef7b2f35"
      },
      "source": [
        "n=int(input())\n",
        "a=list(map(int, input().split()))\n",
        "max = 1000000\n",
        "min = -1\n",
        "for i in a:\n",
        "  if max == 1000000 or  max < i: max = i\n",
        "  if min == -1 or  min > i: min = i\n",
        "print(min)\n",
        "print(max)"
      ],
      "execution_count": 5,
      "outputs": [
        {
          "output_type": "stream",
          "name": "stdout",
          "text": [
            "5\n",
            "20 10 35 30 7\n",
            "7\n",
            "35\n"
          ]
        }
      ]
    },
    {
      "cell_type": "markdown",
      "metadata": {
        "id": "ZzeWmWaECwYE"
      },
      "source": [
        "### 최댓값 2562"
      ]
    },
    {
      "cell_type": "code",
      "metadata": {
        "id": "65pRmuliCzTk"
      },
      "source": [
        "n=int(input())\n",
        "a=list(map(int, input().split()))\n",
        "max = 101\n"
      ],
      "execution_count": null,
      "outputs": []
    },
    {
      "cell_type": "markdown",
      "metadata": {
        "id": "Ta9c16FfC8St"
      },
      "source": [
        "### 숫자의 개수 2577"
      ]
    },
    {
      "cell_type": "code",
      "metadata": {
        "id": "Ro8js6LeC8hM"
      },
      "source": [
        ""
      ],
      "execution_count": null,
      "outputs": []
    },
    {
      "cell_type": "markdown",
      "metadata": {
        "id": "VYrIUvwcDAbM"
      },
      "source": [
        "### 나머지 3052"
      ]
    },
    {
      "cell_type": "code",
      "metadata": {
        "id": "MKefSCacDArF"
      },
      "source": [
        ""
      ],
      "execution_count": null,
      "outputs": []
    }
  ]
}