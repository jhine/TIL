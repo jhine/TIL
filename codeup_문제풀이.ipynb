{
  "nbformat": 4,
  "nbformat_minor": 0,
  "metadata": {
    "colab": {
      "name": "codeup 문제풀이.ipynb",
      "provenance": [],
      "collapsed_sections": [],
      "toc_visible": true,
      "authorship_tag": "ABX9TyP+9UdTTnLVaHFQhRStUeWM",
      "include_colab_link": true
    },
    "kernelspec": {
      "name": "python3",
      "display_name": "Python 3"
    },
    "language_info": {
      "name": "python"
    }
  },
  "cells": [
    {
      "cell_type": "markdown",
      "metadata": {
        "id": "view-in-github",
        "colab_type": "text"
      },
      "source": [
        "<a href=\"https://colab.research.google.com/github/jhine/TIL/blob/master/codeup_%EB%AC%B8%EC%A0%9C%ED%92%80%EC%9D%B4.ipynb\" target=\"_parent\"><img src=\"https://colab.research.google.com/assets/colab-badge.svg\" alt=\"Open In Colab\"/></a>"
      ]
    },
    {
      "cell_type": "code",
      "metadata": {
        "id": "3PTRbrcDFyQo"
      },
      "source": [
        ""
      ],
      "execution_count": null,
      "outputs": []
    },
    {
      "cell_type": "markdown",
      "metadata": {
        "id": "77PhXwljF1gJ"
      },
      "source": [
        "# CODE UP 문제풀이 6024~\n",
        " -21/12/6\n"
      ]
    },
    {
      "cell_type": "markdown",
      "metadata": {
        "id": "LTdnEFY9GMgc"
      },
      "source": [
        "### 6024\n"
      ]
    },
    {
      "cell_type": "code",
      "metadata": {
        "colab": {
          "base_uri": "https://localhost:8080/"
        },
        "id": "Oo3kZQcWF8k1",
        "outputId": "7bd1b40d-16ba-4410-e7ca-50988fa818e0"
      },
      "source": [
        "word1, word2 = 'hello world'.split()\n",
        "print(word1, word2)\n",
        "print(word1+word2)"
      ],
      "execution_count": null,
      "outputs": [
        {
          "output_type": "stream",
          "name": "stdout",
          "text": [
            "hello world\n",
            "helloworld\n"
          ]
        }
      ]
    },
    {
      "cell_type": "markdown",
      "metadata": {
        "id": "3WiUqeILH0FE"
      },
      "source": [
        "### 6025"
      ]
    },
    {
      "cell_type": "code",
      "metadata": {
        "colab": {
          "base_uri": "https://localhost:8080/"
        },
        "id": "lOAuknetH2o0",
        "outputId": "2d62e4d7-d15e-4e27-f0b6-7e9277d45544"
      },
      "source": [
        "a,b= 123, -123\n",
        "c=int(a)+int(b)\n",
        "print(c)"
      ],
      "execution_count": null,
      "outputs": [
        {
          "output_type": "stream",
          "name": "stdout",
          "text": [
            "0\n"
          ]
        }
      ]
    },
    {
      "cell_type": "code",
      "metadata": {
        "colab": {
          "base_uri": "https://localhost:8080/",
          "height": 137
        },
        "id": "L1g00ucOJikc",
        "outputId": "bc845197-9dca-4da4-bdc1-e0183ec868db"
      },
      "source": [
        "a, b = map(int, '123 -123'.split())\n",
        "print( a + b "
      ],
      "execution_count": null,
      "outputs": [
        {
          "output_type": "error",
          "ename": "SyntaxError",
          "evalue": "ignored",
          "traceback": [
            "\u001b[0;36m  File \u001b[0;32m\"<ipython-input-10-13e4fc38f4e0>\"\u001b[0;36m, line \u001b[0;32m2\u001b[0m\n\u001b[0;31m    print( a + b\u001b[0m\n\u001b[0m                 ^\u001b[0m\n\u001b[0;31mSyntaxError\u001b[0m\u001b[0;31m:\u001b[0m unexpected EOF while parsing\n"
          ]
        }
      ]
    },
    {
      "cell_type": "markdown",
      "metadata": {
        "id": "heEjAgYEI9uV"
      },
      "source": [
        "### 6026 "
      ]
    },
    {
      "cell_type": "code",
      "metadata": {
        "colab": {
          "base_uri": "https://localhost:8080/"
        },
        "id": "xTPyBukZI_zF",
        "outputId": "a237f566-756b-488f-d93d-cfa3ba70fa17"
      },
      "source": [
        "a= float(input())\n",
        "b= float(input())\n",
        "print(a+b)\n"
      ],
      "execution_count": null,
      "outputs": [
        {
          "output_type": "stream",
          "name": "stdout",
          "text": [
            "0.1\n",
            "0.9\n",
            "1.0\n"
          ]
        }
      ]
    },
    {
      "cell_type": "markdown",
      "metadata": {
        "id": "SlsWeFq7LS0V"
      },
      "source": [
        "### 6027\n",
        " -   codeup 예시 문법은 예전문법이다"
      ]
    },
    {
      "cell_type": "code",
      "metadata": {
        "colab": {
          "base_uri": "https://localhost:8080/",
          "height": 35
        },
        "id": "jR-xFfwFLUgD",
        "outputId": "432d636f-68e4-4bd9-b8dd-702c6d162269"
      },
      "source": [
        "hex(255)"
      ],
      "execution_count": null,
      "outputs": [
        {
          "output_type": "execute_result",
          "data": {
            "application/vnd.google.colaboratory.intrinsic+json": {
              "type": "string"
            },
            "text/plain": [
              "'0xff'"
            ]
          },
          "metadata": {},
          "execution_count": 12
        }
      ]
    },
    {
      "cell_type": "code",
      "metadata": {
        "colab": {
          "base_uri": "https://localhost:8080/",
          "height": 35
        },
        "id": "2YAatNTkMU_n",
        "outputId": "d4ddecf8-3710-4974-9543-0732d3f44515"
      },
      "source": [
        "f'{255:x}'"
      ],
      "execution_count": null,
      "outputs": [
        {
          "output_type": "execute_result",
          "data": {
            "application/vnd.google.colaboratory.intrinsic+json": {
              "type": "string"
            },
            "text/plain": [
              "'ff'"
            ]
          },
          "metadata": {},
          "execution_count": 13
        }
      ]
    },
    {
      "cell_type": "code",
      "metadata": {
        "colab": {
          "base_uri": "https://localhost:8080/"
        },
        "id": "r5MMBH-2O14k",
        "outputId": "b93b5cc4-45d2-4676-a76f-3d5b51eb0ed9"
      },
      "source": [
        "a= int(input())\n",
        "print(hex(a)[2:])"
      ],
      "execution_count": null,
      "outputs": [
        {
          "output_type": "stream",
          "name": "stdout",
          "text": [
            "100\n",
            "64\n"
          ]
        }
      ]
    },
    {
      "cell_type": "markdown",
      "metadata": {
        "id": "4daRGZPKOQgs"
      },
      "source": [
        "### 6028"
      ]
    },
    {
      "cell_type": "code",
      "metadata": {
        "colab": {
          "base_uri": "https://localhost:8080/"
        },
        "id": "GxkHnhfwPj8s",
        "outputId": "2c6c6546-d459-44b2-9948-818aaa9eaca2"
      },
      "source": [
        "a= int(input())\n",
        "print(hex(a)[2:].upper()) #upper는 결과값을 대문자로 출력\n"
      ],
      "execution_count": null,
      "outputs": [
        {
          "output_type": "stream",
          "name": "stdout",
          "text": [
            "255\n",
            "FF\n"
          ]
        }
      ]
    },
    {
      "cell_type": "code",
      "metadata": {
        "colab": {
          "base_uri": "https://localhost:8080/"
        },
        "id": "zR5WWCtiSgd1",
        "outputId": "bca133b2-6403-4dd4-f7b7-0fb750a15e1e"
      },
      "source": [
        "print( f'{a:X}')"
      ],
      "execution_count": null,
      "outputs": [
        {
          "output_type": "stream",
          "name": "stdout",
          "text": [
            "FF\n"
          ]
        }
      ]
    },
    {
      "cell_type": "markdown",
      "metadata": {
        "id": "LjV0mTCcS42y"
      },
      "source": [
        "### 6029"
      ]
    },
    {
      "cell_type": "code",
      "metadata": {
        "colab": {
          "base_uri": "https://localhost:8080/"
        },
        "id": "6mhiahq9VGlS",
        "outputId": "8497dff7-40e1-4397-fb67-c3858ed81431"
      },
      "source": [
        "a= int( input(), base=16 ) ###base.숫자 = 숫자를 base로 하는 진수\n",
        "print(f'{a:o}')"
      ],
      "execution_count": null,
      "outputs": [
        {
          "output_type": "stream",
          "name": "stdout",
          "text": [
            "f\n",
            "17\n"
          ]
        }
      ]
    },
    {
      "cell_type": "markdown",
      "metadata": {
        "id": "whp7vr7PWKkb"
      },
      "source": [
        "### 6030"
      ]
    },
    {
      "cell_type": "code",
      "metadata": {
        "id": "LkiKb63sWKND"
      },
      "source": [
        "# ord함수는 입력받은 문자를 10진수 유니코드 값으로 변환한 후, n에 저장한다.\n",
        "ord('A')"
      ],
      "execution_count": null,
      "outputs": []
    },
    {
      "cell_type": "code",
      "metadata": {
        "id": "EhIuQWhSWaCb",
        "colab": {
          "base_uri": "https://localhost:8080/"
        },
        "outputId": "122e020d-2946-43f0-d066-b0148bb3fd8e"
      },
      "source": [
        "n = ord(input())\n",
        "print(n)"
      ],
      "execution_count": null,
      "outputs": [
        {
          "output_type": "stream",
          "name": "stdout",
          "text": [
            "B\n",
            "66\n"
          ]
        }
      ]
    },
    {
      "cell_type": "code",
      "metadata": {
        "id": "cA0O08AnWmig",
        "colab": {
          "base_uri": "https://localhost:8080/"
        },
        "outputId": "ecb7aa60-2701-41b3-f657-c6b4ef888f86"
      },
      "source": [
        "a= input()\n",
        "print(ord(a))"
      ],
      "execution_count": null,
      "outputs": [
        {
          "output_type": "stream",
          "name": "stdout",
          "text": [
            "a\n",
            "97\n"
          ]
        }
      ]
    },
    {
      "cell_type": "markdown",
      "metadata": {
        "id": "r1hFjUFOW0Y1"
      },
      "source": [
        "### 6031"
      ]
    },
    {
      "cell_type": "code",
      "metadata": {
        "colab": {
          "base_uri": "https://localhost:8080/"
        },
        "id": "lYTSFsD8W2bM",
        "outputId": "a861d5ff-8c94-4892-a269-4e6ccbed11fa"
      },
      "source": [
        "c = int(input()) ###chr는 숫자를 유니코드로 바꾸는 함수\n",
        "print(chr(c))"
      ],
      "execution_count": null,
      "outputs": [
        {
          "output_type": "stream",
          "name": "stdout",
          "text": [
            "65\n",
            "A\n"
          ]
        }
      ]
    },
    {
      "cell_type": "markdown",
      "metadata": {
        "id": "Pm9RWdDDXldc"
      },
      "source": [
        "### 6032"
      ]
    },
    {
      "cell_type": "code",
      "metadata": {
        "colab": {
          "base_uri": "https://localhost:8080/"
        },
        "id": "vfS_43_lXngF",
        "outputId": "92128e8e-15ff-4c38-97da-378f35eb3aca"
      },
      "source": [
        "a= int(input())\n",
        "print(-a)"
      ],
      "execution_count": null,
      "outputs": [
        {
          "output_type": "stream",
          "name": "stdout",
          "text": [
            "-1\n",
            "1\n"
          ]
        }
      ]
    },
    {
      "cell_type": "markdown",
      "metadata": {
        "id": "uAPWwwxwZjLy"
      },
      "source": [
        "### 6033"
      ]
    },
    {
      "cell_type": "code",
      "metadata": {
        "colab": {
          "base_uri": "https://localhost:8080/"
        },
        "id": "NiOtPiYyZkWc",
        "outputId": "1f6e9839-30bc-4014-da1a-bff291e2836f"
      },
      "source": [
        "a= input()\n",
        "next=ord(a)+1\n",
        "print(chr(next))"
      ],
      "execution_count": null,
      "outputs": [
        {
          "output_type": "stream",
          "name": "stdout",
          "text": [
            "a\n",
            "b\n"
          ]
        }
      ]
    },
    {
      "cell_type": "markdown",
      "metadata": {
        "id": "lJkb-P8ZbU2j"
      },
      "source": [
        "### 6034"
      ]
    },
    {
      "cell_type": "code",
      "metadata": {
        "colab": {
          "base_uri": "https://localhost:8080/"
        },
        "id": "t5dkFIEdbXDq",
        "outputId": "f807b424-542f-43d0-f77b-90c6af3e6933"
      },
      "source": [
        "a,b=map(int,input().split()) #map사용\n",
        "print(a-b)"
      ],
      "execution_count": null,
      "outputs": [
        {
          "output_type": "stream",
          "name": "stdout",
          "text": [
            "123 -123\n",
            "246\n"
          ]
        }
      ]
    },
    {
      "cell_type": "markdown",
      "metadata": {
        "id": "5cn_kGM8fKy7"
      },
      "source": [
        "### 6035"
      ]
    },
    {
      "cell_type": "code",
      "metadata": {
        "colab": {
          "base_uri": "https://localhost:8080/"
        },
        "id": "ZLhENoRIfL_h",
        "outputId": "77f366d6-82ad-4825-84ee-064bc929675f"
      },
      "source": [
        "a,b=map(float,input().split())\n",
        "print(a*b)"
      ],
      "execution_count": null,
      "outputs": [
        {
          "output_type": "stream",
          "name": "stdout",
          "text": [
            "0.5 2.0\n",
            "1.0\n"
          ]
        }
      ]
    },
    {
      "cell_type": "code",
      "metadata": {
        "id": "sgGRisSGgzMT"
      },
      "source": [
        ""
      ],
      "execution_count": null,
      "outputs": []
    },
    {
      "cell_type": "markdown",
      "metadata": {
        "id": "2wJa24iyhkML"
      },
      "source": [
        "### 6036"
      ]
    },
    {
      "cell_type": "code",
      "metadata": {
        "colab": {
          "base_uri": "https://localhost:8080/"
        },
        "id": "oSbufrUOhjsE",
        "outputId": "d51ee397-fb0d-463b-9646-f73688cfb36d"
      },
      "source": [
        "w, n = input().split()\n",
        "print(w*int(n))"
      ],
      "execution_count": null,
      "outputs": [
        {
          "output_type": "stream",
          "name": "stdout",
          "text": [
            "love 3\n",
            "lovelovelove\n"
          ]
        }
      ]
    },
    {
      "cell_type": "code",
      "metadata": {
        "id": "J9YQ7lWIn6Hl"
      },
      "source": [
        ""
      ],
      "execution_count": null,
      "outputs": []
    },
    {
      "cell_type": "markdown",
      "metadata": {
        "id": "kY6i0k3Hlnfa"
      },
      "source": [
        "### 6037"
      ]
    },
    {
      "cell_type": "code",
      "metadata": {
        "colab": {
          "base_uri": "https://localhost:8080/"
        },
        "id": "S3-knZLFlpGg",
        "outputId": "0097e113-34a1-453f-e364-3b6c4ee091c6"
      },
      "source": [
        "n = input()\n",
        "s = input()\n",
        "print(int(n)*s)\n"
      ],
      "execution_count": null,
      "outputs": [
        {
          "output_type": "stream",
          "name": "stdout",
          "text": [
            "3\n",
            "i love\n",
            "i lovei lovei love\n"
          ]
        }
      ]
    },
    {
      "cell_type": "markdown",
      "metadata": {
        "id": "zqECf6aEmNHK"
      },
      "source": [
        "### 6038"
      ]
    },
    {
      "cell_type": "code",
      "metadata": {
        "colab": {
          "base_uri": "https://localhost:8080/"
        },
        "id": "e3O8XmZCmMli",
        "outputId": "7ab8f424-c2c9-44e4-cf45-fe501aca13cd"
      },
      "source": [
        "a,b=map(float,input().split())\n",
        "c = int(a)**int(b)\n",
        "print(c)\n"
      ],
      "execution_count": null,
      "outputs": [
        {
          "output_type": "stream",
          "name": "stdout",
          "text": [
            "2 10\n",
            "1024\n"
          ]
        }
      ]
    },
    {
      "cell_type": "markdown",
      "metadata": {
        "id": "oGTGLFuIoJfC"
      },
      "source": [
        "### 6039"
      ]
    },
    {
      "cell_type": "code",
      "metadata": {
        "colab": {
          "base_uri": "https://localhost:8080/"
        },
        "id": "FkPVeCT3oJyC",
        "outputId": "964de6b0-8f45-454a-c03d-0af2afaaa81a"
      },
      "source": [
        "a,b=map(float,input().split())\n",
        "c=float(a)**float(b)\n",
        "print(c)"
      ],
      "execution_count": null,
      "outputs": [
        {
          "output_type": "stream",
          "name": "stdout",
          "text": [
            "4.0 2.0\n",
            "16.0\n"
          ]
        }
      ]
    },
    {
      "cell_type": "markdown",
      "metadata": {
        "id": "Ooqgh84SoL9r"
      },
      "source": [
        "### 6040"
      ]
    },
    {
      "cell_type": "code",
      "metadata": {
        "colab": {
          "base_uri": "https://localhost:8080/"
        },
        "id": "u1ZkIFHjoNPy",
        "outputId": "16fe2708-487d-432b-8f32-b1b3b9caa873"
      },
      "source": [
        "a,b=map(int,input().split())\n",
        "c=int(a)//int(b)\n",
        "print(c)"
      ],
      "execution_count": null,
      "outputs": [
        {
          "output_type": "stream",
          "name": "stdout",
          "text": [
            "10 3\n",
            "3\n"
          ]
        }
      ]
    },
    {
      "cell_type": "markdown",
      "metadata": {
        "id": "E9w2LPQcoN8S"
      },
      "source": [
        "### 6041"
      ]
    },
    {
      "cell_type": "code",
      "metadata": {
        "colab": {
          "base_uri": "https://localhost:8080/"
        },
        "id": "HQYLs20PoPzz",
        "outputId": "ed2702b2-ac5f-40bf-b65e-e4b9fbaf5574"
      },
      "source": [
        "a,b=map(int,input().split())\n",
        "c=int(a)%int(b)\n",
        "print(c)"
      ],
      "execution_count": null,
      "outputs": [
        {
          "output_type": "stream",
          "name": "stdout",
          "text": [
            "10 3\n",
            "1\n"
          ]
        }
      ]
    },
    {
      "cell_type": "markdown",
      "metadata": {
        "id": "r7eSOqxroQEy"
      },
      "source": [
        "### 6042"
      ]
    },
    {
      "cell_type": "code",
      "metadata": {
        "colab": {
          "base_uri": "https://localhost:8080/"
        },
        "id": "qPTWnfC5oRZy",
        "outputId": "e54677d5-535c-4551-f1ac-cca3df590647"
      },
      "source": [
        "a=float(input())\n",
        "print( format(a, \".2f\") )"
      ],
      "execution_count": null,
      "outputs": [
        {
          "output_type": "stream",
          "name": "stdout",
          "text": [
            "3.141592\n",
            "3.14\n"
          ]
        }
      ]
    },
    {
      "cell_type": "markdown",
      "metadata": {
        "id": "d8hTV7gE8fV5"
      },
      "source": [
        "### 6043"
      ]
    },
    {
      "cell_type": "code",
      "metadata": {
        "id": "8D8GOZXj96Rx"
      },
      "source": [
        "# 소수점 이하 자리를 0까지 포함해서 표현을 하고 싶은 경우\n",
        "# 포맷팅을 이용하면 해결할 수 있습니다.\n",
        "# f'{12:.2f}'"
      ],
      "execution_count": null,
      "outputs": []
    },
    {
      "cell_type": "code",
      "metadata": {
        "colab": {
          "base_uri": "https://localhost:8080/"
        },
        "id": "aBriTWY78fnK",
        "outputId": "2e93f933-d71d-457a-e10e-1da10b86f80e"
      },
      "source": [
        "a,b=map(float,input().split())\n",
        "print( f'{a/b:.3f}' )"
      ],
      "execution_count": null,
      "outputs": [
        {
          "output_type": "stream",
          "name": "stdout",
          "text": [
            "10.0 3.0\n",
            "3.333\n"
          ]
        }
      ]
    },
    {
      "cell_type": "markdown",
      "metadata": {
        "id": "8eNQ07-48hXo"
      },
      "source": [
        "### 6044 "
      ]
    },
    {
      "cell_type": "code",
      "metadata": {
        "colab": {
          "base_uri": "https://localhost:8080/"
        },
        "id": "FFr4vu328jLA",
        "outputId": "1af6a454-89a8-4c42-ed04-540019ca2b01"
      },
      "source": [
        "a,b=map(int,input().split())\n",
        "print(a+b)\n",
        "print(a-b)\n",
        "print(a*b)\n",
        "print(a//b)\n",
        "print(a%b)\n",
        "print(f'{a/b:.2f}')"
      ],
      "execution_count": null,
      "outputs": [
        {
          "output_type": "stream",
          "name": "stdout",
          "text": [
            "10 3\n",
            "13\n",
            "7\n",
            "30\n",
            "3\n",
            "1\n",
            "3.33\n"
          ]
        }
      ]
    },
    {
      "cell_type": "markdown",
      "metadata": {
        "id": "LMgy1M75-Zmx"
      },
      "source": [
        "### 6045 이거도 빡대가리 새끼라 못했음"
      ]
    },
    {
      "cell_type": "code",
      "metadata": {
        "id": "EGkV65BW-Z1y"
      },
      "source": [
        ""
      ],
      "execution_count": null,
      "outputs": []
    },
    {
      "cell_type": "markdown",
      "metadata": {
        "id": "DqijeStd-aaS"
      },
      "source": [
        "### 6048~51 나는 빡대가리 새끼라 여기서부터 못따라가서 다시 풀어야한다\n",
        " -기초 비교연산 "
      ]
    },
    {
      "cell_type": "code",
      "metadata": {
        "id": "AdvsrUfhaxiG"
      },
      "source": [
        ""
      ],
      "execution_count": null,
      "outputs": []
    },
    {
      "cell_type": "markdown",
      "metadata": {
        "id": "uWQRtZK-DX2K"
      },
      "source": [
        "### 6052 "
      ]
    },
    {
      "cell_type": "code",
      "metadata": {
        "colab": {
          "base_uri": "https://localhost:8080/"
        },
        "id": "AbOeKaPYDb7Y",
        "outputId": "e9977886-9c1c-442b-a66a-1f2f55398f34"
      },
      "source": [
        "n = int(input())\n",
        "print(bool(n))"
      ],
      "execution_count": null,
      "outputs": [
        {
          "output_type": "stream",
          "name": "stdout",
          "text": [
            "0\n",
            "False\n"
          ]
        }
      ]
    },
    {
      "cell_type": "markdown",
      "metadata": {
        "id": "rtl0EEviDcRZ"
      },
      "source": [
        "### 6053 "
      ]
    },
    {
      "cell_type": "code",
      "metadata": {
        "colab": {
          "base_uri": "https://localhost:8080/"
        },
        "id": "UJ4TP6-JDeBK",
        "outputId": "203628bf-6db1-4629-f9ac-26bf01dcdb04"
      },
      "source": [
        "a = bool(int(input()))\n",
        "print(not a)"
      ],
      "execution_count": null,
      "outputs": [
        {
          "output_type": "stream",
          "name": "stdout",
          "text": [
            "1\n",
            "False\n"
          ]
        }
      ]
    },
    {
      "cell_type": "markdown",
      "metadata": {
        "id": "hIFuJDpwDeOL"
      },
      "source": [
        "### 6054 "
      ]
    },
    {
      "cell_type": "code",
      "metadata": {
        "colab": {
          "base_uri": "https://localhost:8080/"
        },
        "id": "uDAVIExDDf6p",
        "outputId": "a4288b0b-96c4-4315-c3df-b677d5a0463f"
      },
      "source": [
        "a,b= input().split()\n",
        "print(bool(int(a)) and bool(int(b)))"
      ],
      "execution_count": null,
      "outputs": [
        {
          "output_type": "stream",
          "name": "stdout",
          "text": [
            "1 1\n",
            "True\n"
          ]
        }
      ]
    },
    {
      "cell_type": "markdown",
      "metadata": {
        "id": "BEpUIVwQDiLR"
      },
      "source": [
        "### 6055 못"
      ]
    },
    {
      "cell_type": "code",
      "metadata": {
        "id": "IWaAOZRIDibh"
      },
      "source": [
        ""
      ],
      "execution_count": null,
      "outputs": []
    },
    {
      "cell_type": "markdown",
      "metadata": {
        "id": "9MmGrqfoDirK"
      },
      "source": [
        "### 6056 "
      ]
    },
    {
      "cell_type": "code",
      "metadata": {
        "colab": {
          "base_uri": "https://localhost:8080/"
        },
        "id": "3E6rSAuDDwIg",
        "outputId": "328123a7-aeb3-4369-d7be-eaa67cdd6901"
      },
      "source": [
        "a,b=map(int,input().split())\n",
        "a=bool(a)\n",
        "b=bool(b)\n",
        "print((a and (not b)) or ((not a) and b))"
      ],
      "execution_count": null,
      "outputs": [
        {
          "output_type": "stream",
          "name": "stdout",
          "text": [
            "1 1\n",
            "False\n"
          ]
        }
      ]
    },
    {
      "cell_type": "markdown",
      "metadata": {
        "id": "Hqpu-0j3Gfnx"
      },
      "source": [
        "### 6057 "
      ]
    },
    {
      "cell_type": "code",
      "metadata": {
        "colab": {
          "base_uri": "https://localhost:8080/"
        },
        "id": "ovKDeuS1Gf6Y",
        "outputId": "9ce83af7-041f-4cf6-95a9-38b741ce0dc2"
      },
      "source": [
        "a,b=map(int,input().split())\n",
        "a=bool(a)\n",
        "b=bool(b)\n",
        "print((a and b) or ((not a) and (not b)))"
      ],
      "execution_count": null,
      "outputs": [
        {
          "output_type": "stream",
          "name": "stdout",
          "text": [
            "0 0\n",
            "True\n"
          ]
        }
      ]
    },
    {
      "cell_type": "markdown",
      "metadata": {
        "id": "p45UY9MLH0Z5"
      },
      "source": [
        "### 6058 "
      ]
    },
    {
      "cell_type": "code",
      "metadata": {
        "colab": {
          "base_uri": "https://localhost:8080/"
        },
        "id": "6PcUz-APGhqI",
        "outputId": "9a4c5bca-a020-4867-dc27-76a54925f991"
      },
      "source": [
        "a,b=map(int,input().split())\n",
        "a=bool(a)\n",
        "b=bool(b)\n",
        "print(not(a or b))"
      ],
      "execution_count": null,
      "outputs": [
        {
          "output_type": "stream",
          "name": "stdout",
          "text": [
            "0 0\n",
            "True\n"
          ]
        }
      ]
    },
    {
      "cell_type": "markdown",
      "metadata": {
        "id": "9u0_V-wnItzd"
      },
      "source": [
        "### 6065 다시한번\n",
        "- 아래의 코드가 이해되시나요? \n",
        " - if not a % 2: print(a) \n",
        " -if not b % 2: print(b)\n",
        " -if not c % 2: print(c)"
      ]
    },
    {
      "cell_type": "code",
      "metadata": {
        "colab": {
          "base_uri": "https://localhost:8080/"
        },
        "id": "ji3vDvzTIuJo",
        "outputId": "b87453e7-84da-49be-a656-576e502bbda7"
      },
      "source": [
        "a, b, c = map(int, input().split())\n",
        "if not a % 2: print(a)\n",
        "if not b % 2: print(b)\n",
        "if not c % 2: print(c)"
      ],
      "execution_count": null,
      "outputs": [
        {
          "output_type": "stream",
          "name": "stdout",
          "text": [
            "1 2 4\n",
            "2\n",
            "4\n"
          ]
        }
      ]
    },
    {
      "cell_type": "markdown",
      "metadata": {
        "id": "Z-jEuv1KQnGA"
      },
      "source": [
        "### 6066 "
      ]
    },
    {
      "cell_type": "code",
      "metadata": {
        "colab": {
          "base_uri": "https://localhost:8080/"
        },
        "id": "nluMvBpVQnVJ",
        "outputId": "60d4ce7d-176a-4fff-e7da-a045642aa514"
      },
      "source": [
        "a, b, c = map(int, input().split())\n",
        "if a%2==0 :\n",
        "  print(\"even\")\n",
        "else :\n",
        "  print(\"odd\")   \n",
        "if b%2==0 :\n",
        "  print(\"even\")\n",
        "else :\n",
        "  print(\"odd\")   \n",
        "if c%2==0 :\n",
        "  print(\"even\")\n",
        "else :\n",
        "  print(\"odd\")     \n"
      ],
      "execution_count": null,
      "outputs": [
        {
          "output_type": "stream",
          "name": "stdout",
          "text": [
            "1 2 8\n",
            "odd\n",
            "even\n",
            "even\n"
          ]
        }
      ]
    },
    {
      "cell_type": "markdown",
      "metadata": {
        "id": "Jp3-2uvrbNoN"
      },
      "source": [
        "### 6067 "
      ]
    },
    {
      "cell_type": "code",
      "metadata": {
        "colab": {
          "base_uri": "https://localhost:8080/"
        },
        "id": "h9m0ETT7bRjZ",
        "outputId": "a4d57779-e1b1-4977-e0de-3bb58d70856a"
      },
      "source": [
        "n = int(input())\n",
        "if n<0 :\n",
        "  if n%2==0 :\n",
        "    print('A')\n",
        "  else :\n",
        "    print('B')\n",
        "else :\n",
        "  if n%2==0 :\n",
        "    print('C')\n",
        "  else :\n",
        "    print('D')   "
      ],
      "execution_count": null,
      "outputs": [
        {
          "output_type": "stream",
          "name": "stdout",
          "text": [
            "-2147483648\n",
            "A\n"
          ]
        }
      ]
    },
    {
      "cell_type": "code",
      "metadata": {
        "id": "D5Tx07Q3sMct"
      },
      "source": [
        ""
      ],
      "execution_count": null,
      "outputs": []
    },
    {
      "cell_type": "markdown",
      "metadata": {
        "id": "zQZNaMiWeEq3"
      },
      "source": [
        "### 6068"
      ]
    },
    {
      "cell_type": "code",
      "metadata": {
        "colab": {
          "base_uri": "https://localhost:8080/"
        },
        "id": "-rFMxsmQeFM2",
        "outputId": "10faf068-e2e8-456a-9a95-83a32759129b"
      },
      "source": [
        "n=int(input())\n",
        "if n>=90 :\n",
        "  print('A')\n",
        "else :\n",
        "  if n>=70 :\n",
        "    print('B')\n",
        "  else :\n",
        "    if n>=40 :\n",
        "      print('C')\n",
        "    else :\n",
        "      print('D')      "
      ],
      "execution_count": null,
      "outputs": [
        {
          "output_type": "stream",
          "name": "stdout",
          "text": [
            "40\n",
            "C\n"
          ]
        }
      ]
    },
    {
      "cell_type": "code",
      "metadata": {
        "colab": {
          "base_uri": "https://localhost:8080/"
        },
        "id": "Q03uRVMPldlG",
        "outputId": "8873b1c5-7730-474b-9443-382f9679ef73"
      },
      "source": [
        "#파이썬은 이런 문법도 지원합니다\n",
        "n = int( input() )\n",
        "\n",
        "if 90 <= n <= 100:\n",
        "  print('A')\n",
        "elif 70 <= n <= 89:\n",
        "  print('B')\n",
        "elif 40 <= n <= 69:\n",
        "  print('C')\n",
        "else:\n",
        "  print('D')\n"
      ],
      "execution_count": null,
      "outputs": [
        {
          "output_type": "stream",
          "name": "stdout",
          "text": [
            "50\n",
            "C\n"
          ]
        }
      ]
    },
    {
      "cell_type": "markdown",
      "metadata": {
        "id": "hEuG82Ybh4eI"
      },
      "source": [
        "### 6069"
      ]
    },
    {
      "cell_type": "code",
      "metadata": {
        "colab": {
          "base_uri": "https://localhost:8080/"
        },
        "id": "pBpIKsgIh6NP",
        "outputId": "6a620860-4849-4a5a-c044-ed29f7b76b20"
      },
      "source": [
        "ch = input()\n",
        "\n",
        "if ch == 'A' :\n",
        "  print('best!!!')\n",
        "elif ch== 'B' :\n",
        "    print('good!!')  \n",
        "elif ch== 'C' :\n",
        "  print('run!')\n",
        "elif ch== 'D' :\n",
        "  print('slowly~') \n",
        "else :\n",
        "   print('what?')   \n",
        "#elif는 else if 의 짧은 약어라고 생각해도 된다.\n",
        "#elif 를 사용하면 if ... else ... 구조를 겹쳐 사용할 때처럼, 여러 번 안 쪽으로 들여쓰기 하지 않아도 된다.\n"
      ],
      "execution_count": null,
      "outputs": [
        {
          "output_type": "stream",
          "name": "stdout",
          "text": [
            "B\n",
            "good!!\n"
          ]
        }
      ]
    },
    {
      "cell_type": "markdown",
      "metadata": {
        "id": "bZUXWhy5lI22"
      },
      "source": [
        "### 6070"
      ]
    },
    {
      "cell_type": "code",
      "metadata": {
        "colab": {
          "base_uri": "https://localhost:8080/"
        },
        "id": "CZ8mqQbzlIf-",
        "outputId": "4dfedc7a-25e0-43e7-c969-cf5e3ae0c741"
      },
      "source": [
        "se = int(input())\n",
        "\n",
        "if se//3==1 :\n",
        "  print(\"spring\")\n",
        "elif se//3==2 :\n",
        "  print(\"summer\")\n",
        "elif se//3==3 :\n",
        "  print(\"fall\") \n",
        "else:\n",
        "  print(\"winter\")   "
      ],
      "execution_count": null,
      "outputs": [
        {
          "output_type": "stream",
          "name": "stdout",
          "text": [
            "5\n",
            "spring\n"
          ]
        }
      ]
    },
    {
      "cell_type": "markdown",
      "metadata": {
        "id": "ojvt8c20pae2"
      },
      "source": [
        "### 6071"
      ]
    },
    {
      "cell_type": "code",
      "metadata": {
        "colab": {
          "base_uri": "https://localhost:8080/"
        },
        "id": "KOk2kfe_pavW",
        "outputId": "c52f1cf0-a80b-4638-9a3e-75b556f750df"
      },
      "source": [
        "while True:\n",
        "  n = int( input() )\n",
        "  if n != 0:\n",
        "    print(n)\n",
        "  else:\n",
        "    break\n",
        "\n"
      ],
      "execution_count": null,
      "outputs": [
        {
          "name": "stdout",
          "output_type": "stream",
          "text": [
            "7\n",
            "7\n",
            "4\n",
            "4\n",
            "2\n",
            "2\n",
            "1\n",
            "1\n",
            "0\n"
          ]
        }
      ]
    },
    {
      "cell_type": "markdown",
      "metadata": {
        "id": "Ukv-nwJ0uB8k"
      },
      "source": [
        "## 6072"
      ]
    },
    {
      "cell_type": "code",
      "metadata": {
        "colab": {
          "base_uri": "https://localhost:8080/"
        },
        "id": "cZaByCT8uCPW",
        "outputId": "9f437eac-dd9b-49df-fe3f-c0ee2c391810"
      },
      "source": [
        "n=int(input())\n",
        "while n!=0 :\n",
        "  print(n)\n",
        "  n = n-1"
      ],
      "execution_count": null,
      "outputs": [
        {
          "output_type": "stream",
          "name": "stdout",
          "text": [
            "5\n",
            "5\n",
            "4\n",
            "3\n",
            "2\n",
            "1\n"
          ]
        }
      ]
    },
    {
      "cell_type": "markdown",
      "metadata": {
        "id": "mXG3UCpNvlF9"
      },
      "source": [
        "## 6073"
      ]
    },
    {
      "cell_type": "code",
      "metadata": {
        "colab": {
          "base_uri": "https://localhost:8080/"
        },
        "id": "XYsPYzwwvmLO",
        "outputId": "cf8da340-a2ff-4ed6-d8af-0f561535f45f"
      },
      "source": [
        "n=int(input())\n",
        "while (n-1)!=-1 :\n",
        "  print(n-1)\n",
        "  n = n-1"
      ],
      "execution_count": null,
      "outputs": [
        {
          "output_type": "stream",
          "name": "stdout",
          "text": [
            "5\n",
            "4\n",
            "3\n",
            "2\n",
            "1\n",
            "0\n"
          ]
        }
      ]
    },
    {
      "cell_type": "markdown",
      "metadata": {
        "id": "eRDSoUOOwdkP"
      },
      "source": [
        "## 6074 예시 복붙했는데 뭔소린지 모르겠음"
      ]
    },
    {
      "cell_type": "code",
      "metadata": {
        "colab": {
          "base_uri": "https://localhost:8080/"
        },
        "id": "-66zAzZAwd4F",
        "outputId": "ee4f9503-6e72-4c2e-b362-e018a899db13"
      },
      "source": [
        "c = ord(input())\n",
        "t = ord('a')\n",
        "while t<=c :\n",
        "  print(chr(t), end=' ')\n",
        "  t += 1"
      ],
      "execution_count": null,
      "outputs": [
        {
          "output_type": "stream",
          "name": "stdout",
          "text": [
            "f\n",
            "a b c d e f "
          ]
        }
      ]
    },
    {
      "cell_type": "markdown",
      "metadata": {
        "id": "5PoNDt5AzINe"
      },
      "source": [
        "## 6075\n",
        " - range함수를 사용하는게 더 깔끔 "
      ]
    },
    {
      "cell_type": "code",
      "metadata": {
        "colab": {
          "base_uri": "https://localhost:8080/"
        },
        "id": "IkHdb73QzIcV",
        "outputId": "ff3cf961-9238-4215-a77d-10995ecb5af6"
      },
      "source": [
        "c = int(input())\n",
        "t = int(0)\n",
        "while t<=c :\n",
        "  print(int(t))\n",
        "  t += 1"
      ],
      "execution_count": null,
      "outputs": [
        {
          "output_type": "stream",
          "name": "stdout",
          "text": [
            "4\n",
            "0\n",
            "1\n",
            "2\n",
            "3\n",
            "4\n"
          ]
        }
      ]
    },
    {
      "cell_type": "markdown",
      "metadata": {
        "id": "yvAFlzld4A7l"
      },
      "source": [
        "## 6076"
      ]
    },
    {
      "cell_type": "code",
      "metadata": {
        "colab": {
          "base_uri": "https://localhost:8080/"
        },
        "id": "SAILcBxj4BM1",
        "outputId": "70642fda-308d-4880-d0cb-5d168643bcd6"
      },
      "source": [
        "n = int(input())\n",
        "for i in range(n+1) :\n",
        "  print(i)"
      ],
      "execution_count": null,
      "outputs": [
        {
          "output_type": "stream",
          "name": "stdout",
          "text": [
            "4\n",
            "0\n",
            "1\n",
            "2\n",
            "3\n",
            "4\n"
          ]
        }
      ]
    },
    {
      "cell_type": "markdown",
      "metadata": {
        "id": "PdHQIjIt5O19"
      },
      "source": [
        "## 6077"
      ]
    },
    {
      "cell_type": "code",
      "metadata": {
        "colab": {
          "base_uri": "https://localhost:8080/"
        },
        "id": "WxVwuWYF5PMf",
        "outputId": "349f0f33-d6ac-4ed3-9d29-b46dcb0e00ed"
      },
      "source": [
        "n = int(input())\n",
        "s = 0\n",
        "for i in range(1, n+1) :\n",
        "  if i%2==0 :\n",
        "    s += i\n",
        "\n",
        "print(s)"
      ],
      "execution_count": null,
      "outputs": [
        {
          "output_type": "stream",
          "name": "stdout",
          "text": [
            "5\n",
            "6\n"
          ]
        }
      ]
    },
    {
      "cell_type": "markdown",
      "metadata": {
        "id": "ZKBAvJ2s6ihV"
      },
      "source": [
        "## 6078"
      ]
    },
    {
      "cell_type": "code",
      "metadata": {
        "colab": {
          "base_uri": "https://localhost:8080/"
        },
        "id": "rWbajvQ56iv0",
        "outputId": "c4d072b1-1c93-448a-cbc9-7c9ff8a67fe3"
      },
      "source": [
        "while True:\n",
        "  x = input()\n",
        "  print(x)\n",
        "  if x == 'q':\n",
        "    break \n",
        "\n"
      ],
      "execution_count": null,
      "outputs": [
        {
          "output_type": "stream",
          "name": "stdout",
          "text": [
            "a\n",
            "a\n",
            "b\n",
            "b\n",
            "c\n",
            "c\n",
            "\n",
            "\n",
            "q\n",
            "q\n"
          ]
        }
      ]
    },
    {
      "cell_type": "markdown",
      "metadata": {
        "id": "ZgTJhQc0BOd0"
      },
      "source": [
        "## 6079 오 시발 모르겠어\n"
      ]
    },
    {
      "cell_type": "code",
      "metadata": {
        "id": "5AA1wgEsBPGF"
      },
      "source": [
        "n=int(input())\n"
      ],
      "execution_count": null,
      "outputs": []
    },
    {
      "cell_type": "markdown",
      "metadata": {
        "id": "MkuqSIMODdo7"
      },
      "source": [
        "## 6080"
      ]
    },
    {
      "cell_type": "code",
      "metadata": {
        "id": "8BWF5njRDeCr"
      },
      "source": [
        ""
      ],
      "execution_count": null,
      "outputs": []
    },
    {
      "cell_type": "markdown",
      "metadata": {
        "id": "ftNMYwK7V4Po"
      },
      "source": [
        "## ~6098 나는 대가리에 든게 없어서 못따라갑니다\n",
        " 조졌어 벌써 모르겠는데 이 다음은 어떻게 하냐 \n",
        " 애새끼들마냥 지들 문제 잘푼다고 존나 티 팍팍 내네 씨발새끼들 ㅋㅋ 이거 왜 듣고 자빠졌냐 지들끼리 프로젝트 하나 하지 씨~발 새끼들 ㅋㅋ\n"
      ]
    }
  ]
}