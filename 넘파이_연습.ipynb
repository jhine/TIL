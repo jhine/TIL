{
  "nbformat": 4,
  "nbformat_minor": 0,
  "metadata": {
    "colab": {
      "name": "넘파이 연습.ipynb",
      "provenance": [],
      "collapsed_sections": [],
      "toc_visible": true,
      "authorship_tag": "ABX9TyPV5UF31TyVNV4y0dxXZPZF",
      "include_colab_link": true
    },
    "kernelspec": {
      "name": "python3",
      "display_name": "Python 3"
    },
    "language_info": {
      "name": "python"
    }
  },
  "cells": [
    {
      "cell_type": "markdown",
      "metadata": {
        "id": "view-in-github",
        "colab_type": "text"
      },
      "source": [
        "<a href=\"https://colab.research.google.com/github/jhine/TIL/blob/master/%EB%84%98%ED%8C%8C%EC%9D%B4_%EC%97%B0%EC%8A%B5.ipynb\" target=\"_parent\"><img src=\"https://colab.research.google.com/assets/colab-badge.svg\" alt=\"Open In Colab\"/></a>"
      ]
    },
    {
      "cell_type": "markdown",
      "source": [
        "# 넘파이"
      ],
      "metadata": {
        "id": "bkQH-BQzKjG1"
      }
    },
    {
      "cell_type": "markdown",
      "source": [
        "## 2차원 배열의 인덱싱과 슬라이싱\n",
        "- 인덱싱은 다음과 같이 표현 됩니다. \n",
        "$$\n",
        "  array[행, 열]\n",
        "$$\n",
        "\n",
        "- 슬라이스는 행과 열을 각각 정의할 수 있습니다. \n",
        "\n",
        "$$\n",
        "  array[행시작:행끝, 열시작:열끝]\n",
        "$$"
      ],
      "metadata": {
        "id": "pijSS2MO8KOa"
      }
    },
    {
      "cell_type": "code",
      "source": [
        ""
      ],
      "metadata": {
        "id": "_ooPcBdR8Knw"
      },
      "execution_count": null,
      "outputs": []
    },
    {
      "cell_type": "markdown",
      "source": [
        "### 2차원 배열의 인덱싱과 슬라이싱 연습"
      ],
      "metadata": {
        "id": "y4Xly3h94CKQ"
      }
    },
    {
      "cell_type": "code",
      "execution_count": 4,
      "metadata": {
        "colab": {
          "base_uri": "https://localhost:8080/"
        },
        "id": "92PrkRRK3_GE",
        "outputId": "5c2d712d-2b04-49df-e532-257dbe5476b9"
      },
      "outputs": [
        {
          "output_type": "execute_result",
          "data": {
            "text/plain": [
              "array([[ 1,  2,  3,  4,  5,  6,  7,  8,  9, 10],\n",
              "       [11, 12, 13, 14, 15, 16, 17, 18, 19, 20],\n",
              "       [21, 22, 23, 24, 25, 26, 27, 28, 29, 30]])"
            ]
          },
          "metadata": {},
          "execution_count": 4
        }
      ],
      "source": [
        "import numpy as np\n",
        "arrN = np.arange(1, 31).reshape(3, 10)\n",
        "arrN"
      ]
    },
    {
      "cell_type": "code",
      "source": [
        ""
      ],
      "metadata": {
        "id": "sVSNfZ7E8v0A"
      },
      "execution_count": null,
      "outputs": []
    },
    {
      "cell_type": "code",
      "source": [
        "# 주어진 배열에서 다음의 수 들을 인덱싱 또는 슬라이스 해보시면 됩니다. \n",
        "\n",
        "# 16\n",
        "display(arrN[1,5])\n",
        "# 29\n",
        "display(arrN[2,8])\n",
        "# 14, 15, 16\n",
        "display(arrN[1,3:6])\n",
        "# 18, 28\n",
        "display(arrN[1:3,7])\n",
        "# 9, 10, 19, 20\n"
      ],
      "metadata": {
        "colab": {
          "base_uri": "https://localhost:8080/",
          "height": 127
        },
        "id": "rQAZ2mBd4eqo",
        "outputId": "bdfed775-08bf-45c5-c95f-479502caa7d8"
      },
      "execution_count": 7,
      "outputs": [
        {
          "output_type": "display_data",
          "data": {
            "text/plain": [
              "16"
            ]
          },
          "metadata": {}
        },
        {
          "output_type": "display_data",
          "data": {
            "text/plain": [
              "29"
            ]
          },
          "metadata": {}
        },
        {
          "output_type": "display_data",
          "data": {
            "text/plain": [
              "array([14, 15, 16])"
            ]
          },
          "metadata": {}
        },
        {
          "output_type": "display_data",
          "data": {
            "text/plain": [
              "array([18, 28])"
            ]
          },
          "metadata": {}
        },
        {
          "output_type": "display_data",
          "data": {
            "text/plain": [
              "array([[ 9, 10],\n",
              "       [19, 20]])"
            ]
          },
          "metadata": {}
        }
      ]
    },
    {
      "cell_type": "code",
      "source": [
        "arrn = np.arange(1, 51).reshape(5, 10)\n",
        "arrn"
      ],
      "metadata": {
        "colab": {
          "base_uri": "https://localhost:8080/"
        },
        "id": "XXeT9SqI6fuq",
        "outputId": "16fa6a90-9c57-418a-fdbd-36063907bc98"
      },
      "execution_count": 38,
      "outputs": [
        {
          "output_type": "execute_result",
          "data": {
            "text/plain": [
              "array([[ 1,  2,  3,  4,  5,  6,  7,  8,  9, 10],\n",
              "       [11, 12, 13, 14, 15, 16, 17, 18, 19, 20],\n",
              "       [21, 22, 23, 24, 25, 26, 27, 28, 29, 30],\n",
              "       [31, 32, 33, 34, 35, 36, 37, 38, 39, 40],\n",
              "       [41, 42, 43, 44, 45, 46, 47, 48, 49, 50]])"
            ]
          },
          "metadata": {},
          "execution_count": 38
        }
      ]
    },
    {
      "cell_type": "code",
      "source": [
        "# 14, 15, 16, 17, 24, 25, 26, 27, 34, 35, 36, 37\n",
        "display(arrn[1:4,3:7 ])\n",
        "\n",
        "\n",
        "# 12, 22, 32"
      ],
      "metadata": {
        "colab": {
          "base_uri": "https://localhost:8080/",
          "height": 72
        },
        "id": "l4mFLPeI6hOQ",
        "outputId": "f77a73db-12b4-49c2-d156-b766c15924aa"
      },
      "execution_count": 42,
      "outputs": [
        {
          "output_type": "display_data",
          "data": {
            "text/plain": [
              "array([[14, 15, 16, 17],\n",
              "       [24, 25, 26, 27],\n",
              "       [34, 35, 36, 37]])"
            ]
          },
          "metadata": {}
        }
      ]
    },
    {
      "cell_type": "markdown",
      "source": [
        "## 배열 생성 "
      ],
      "metadata": {
        "id": "uRbCP70OLKQE"
      }
    },
    {
      "cell_type": "markdown",
      "source": [
        "### 배열 생성 연습"
      ],
      "metadata": {
        "id": "i5WvarTtLZ3k"
      }
    },
    {
      "cell_type": "code",
      "source": [
        "#중복되지 않는 무작위 수열 생성\n",
        "arr = np.arange(1, 45)\n",
        "np.random.choice(arr, size=6, replace=False)"
      ],
      "metadata": {
        "colab": {
          "base_uri": "https://localhost:8080/"
        },
        "id": "EprOY7PGLQRc",
        "outputId": "b7335bcd-03bc-44ce-ae58-b72e1b986d21"
      },
      "execution_count": 44,
      "outputs": [
        {
          "output_type": "execute_result",
          "data": {
            "text/plain": [
              "array([17, 32, 26, 30, 35, 37])"
            ]
          },
          "metadata": {},
          "execution_count": 44
        }
      ]
    }
  ]
}