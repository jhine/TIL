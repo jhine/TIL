{
  "nbformat": 4,
  "nbformat_minor": 0,
  "metadata": {
    "colab": {
      "name": "라이브러리 연습.ipynb",
      "provenance": [],
      "collapsed_sections": [],
      "toc_visible": true,
      "mount_file_id": "1991Xgli9OCr5JoK3kxc9-Uv_XDNyDkqZ",
      "authorship_tag": "ABX9TyOBEtFc2/WWEndekYgkShdM",
      "include_colab_link": true
    },
    "kernelspec": {
      "name": "python3",
      "display_name": "Python 3"
    },
    "language_info": {
      "name": "python"
    }
  },
  "cells": [
    {
      "cell_type": "markdown",
      "metadata": {
        "id": "view-in-github",
        "colab_type": "text"
      },
      "source": [
        "<a href=\"https://colab.research.google.com/github/jhine/TIL/blob/master/%EB%9D%BC%EC%9D%B4%EB%B8%8C%EB%9F%AC%EB%A6%AC_%EC%97%B0%EC%8A%B5.ipynb\" target=\"_parent\"><img src=\"https://colab.research.google.com/assets/colab-badge.svg\" alt=\"Open In Colab\"/></a>"
      ]
    },
    {
      "cell_type": "markdown",
      "source": [
        "# 넘파이"
      ],
      "metadata": {
        "id": "bkQH-BQzKjG1"
      }
    },
    {
      "cell_type": "code",
      "source": [
        "import numpy as np\n"
      ],
      "metadata": {
        "id": "ddoDSVA8w8Yd"
      },
      "execution_count": null,
      "outputs": []
    },
    {
      "cell_type": "markdown",
      "source": [
        "## 2차원 배열의 인덱싱과 슬라이싱\n",
        "- 인덱싱은 다음과 같이 표현 됩니다. \n",
        "$$\n",
        "  array[행, 열]\n",
        "$$\n",
        "\n",
        "- 슬라이스는 행과 열을 각각 정의할 수 있습니다. \n",
        "\n",
        "$$\n",
        "  array[행시작:행끝, 열시작:열끝]\n",
        "$$"
      ],
      "metadata": {
        "id": "pijSS2MO8KOa"
      }
    },
    {
      "cell_type": "code",
      "source": [
        ""
      ],
      "metadata": {
        "id": "_ooPcBdR8Knw"
      },
      "execution_count": null,
      "outputs": []
    },
    {
      "cell_type": "markdown",
      "source": [
        "### 2차원 배열의 인덱싱과 슬라이싱 연습"
      ],
      "metadata": {
        "id": "y4Xly3h94CKQ"
      }
    },
    {
      "cell_type": "code",
      "execution_count": null,
      "metadata": {
        "colab": {
          "base_uri": "https://localhost:8080/"
        },
        "id": "92PrkRRK3_GE",
        "outputId": "5c2d712d-2b04-49df-e532-257dbe5476b9"
      },
      "outputs": [
        {
          "output_type": "execute_result",
          "data": {
            "text/plain": [
              "array([[ 1,  2,  3,  4,  5,  6,  7,  8,  9, 10],\n",
              "       [11, 12, 13, 14, 15, 16, 17, 18, 19, 20],\n",
              "       [21, 22, 23, 24, 25, 26, 27, 28, 29, 30]])"
            ]
          },
          "metadata": {},
          "execution_count": 4
        }
      ],
      "source": [
        "import numpy as np\n",
        "arrN = np.arange(1, 31).reshape(3, 10)\n",
        "arrN"
      ]
    },
    {
      "cell_type": "code",
      "source": [
        ""
      ],
      "metadata": {
        "id": "sVSNfZ7E8v0A"
      },
      "execution_count": null,
      "outputs": []
    },
    {
      "cell_type": "code",
      "source": [
        "# 주어진 배열에서 다음의 수 들을 인덱싱 또는 슬라이스 해보시면 됩니다. \n",
        "\n",
        "# 16\n",
        "display(arrN[1,5])\n",
        "# 29\n",
        "display(arrN[2,8])\n",
        "# 14, 15, 16\n",
        "display(arrN[1,3:6])\n",
        "# 18, 28\n",
        "display(arrN[1:3,7])\n",
        "# 9, 10, 19, 20\n"
      ],
      "metadata": {
        "colab": {
          "base_uri": "https://localhost:8080/",
          "height": 127
        },
        "id": "rQAZ2mBd4eqo",
        "outputId": "bdfed775-08bf-45c5-c95f-479502caa7d8"
      },
      "execution_count": null,
      "outputs": [
        {
          "output_type": "display_data",
          "data": {
            "text/plain": [
              "16"
            ]
          },
          "metadata": {}
        },
        {
          "output_type": "display_data",
          "data": {
            "text/plain": [
              "29"
            ]
          },
          "metadata": {}
        },
        {
          "output_type": "display_data",
          "data": {
            "text/plain": [
              "array([14, 15, 16])"
            ]
          },
          "metadata": {}
        },
        {
          "output_type": "display_data",
          "data": {
            "text/plain": [
              "array([18, 28])"
            ]
          },
          "metadata": {}
        },
        {
          "output_type": "display_data",
          "data": {
            "text/plain": [
              "array([[ 9, 10],\n",
              "       [19, 20]])"
            ]
          },
          "metadata": {}
        }
      ]
    },
    {
      "cell_type": "code",
      "source": [
        "arrn = np.arange(1, 51).reshape(5, 10)\n",
        "arrn"
      ],
      "metadata": {
        "colab": {
          "base_uri": "https://localhost:8080/"
        },
        "id": "XXeT9SqI6fuq",
        "outputId": "16fa6a90-9c57-418a-fdbd-36063907bc98"
      },
      "execution_count": null,
      "outputs": [
        {
          "output_type": "execute_result",
          "data": {
            "text/plain": [
              "array([[ 1,  2,  3,  4,  5,  6,  7,  8,  9, 10],\n",
              "       [11, 12, 13, 14, 15, 16, 17, 18, 19, 20],\n",
              "       [21, 22, 23, 24, 25, 26, 27, 28, 29, 30],\n",
              "       [31, 32, 33, 34, 35, 36, 37, 38, 39, 40],\n",
              "       [41, 42, 43, 44, 45, 46, 47, 48, 49, 50]])"
            ]
          },
          "metadata": {},
          "execution_count": 38
        }
      ]
    },
    {
      "cell_type": "code",
      "source": [
        "# 14, 15, 16, 17, 24, 25, 26, 27, 34, 35, 36, 37\n",
        "display(arrn[1:4,3:7 ])\n",
        "\n",
        "\n",
        "# 12, 22, 32\n",
        "display (arrn[1:4,1])"
      ],
      "metadata": {
        "colab": {
          "base_uri": "https://localhost:8080/",
          "height": 90
        },
        "id": "l4mFLPeI6hOQ",
        "outputId": "bb4749af-5cfb-48a3-f3e9-afde89722f2a"
      },
      "execution_count": null,
      "outputs": [
        {
          "output_type": "display_data",
          "data": {
            "text/plain": [
              "array([[14, 15, 16, 17],\n",
              "       [24, 25, 26, 27],\n",
              "       [34, 35, 36, 37]])"
            ]
          },
          "metadata": {}
        },
        {
          "output_type": "display_data",
          "data": {
            "text/plain": [
              "array([12, 22, 32])"
            ]
          },
          "metadata": {}
        }
      ]
    },
    {
      "cell_type": "markdown",
      "source": [
        "## 배열 생성 "
      ],
      "metadata": {
        "id": "uRbCP70OLKQE"
      }
    },
    {
      "cell_type": "markdown",
      "source": [
        "### 배열 생성 연습"
      ],
      "metadata": {
        "id": "i5WvarTtLZ3k"
      }
    },
    {
      "cell_type": "code",
      "source": [
        "#중복되지 않는 무작위 수열 생성\n",
        "arr = np.arange(1, 45)\n",
        "np.random.choice(arr, size=6, replace=False)"
      ],
      "metadata": {
        "colab": {
          "base_uri": "https://localhost:8080/"
        },
        "id": "EprOY7PGLQRc",
        "outputId": "b7335bcd-03bc-44ce-ae58-b72e1b986d21"
      },
      "execution_count": null,
      "outputs": [
        {
          "output_type": "execute_result",
          "data": {
            "text/plain": [
              "array([17, 32, 26, 30, 35, 37])"
            ]
          },
          "metadata": {},
          "execution_count": 44
        }
      ]
    },
    {
      "cell_type": "markdown",
      "source": [
        "# **판다스**\n",
        " -매우매우 중요하다\n"
      ],
      "metadata": {
        "id": "zIJy1C-TwhzV"
      }
    },
    {
      "cell_type": "code",
      "source": [
        "import pandas as pd\n"
      ],
      "metadata": {
        "id": "MUnpbr88w1gY"
      },
      "execution_count": null,
      "outputs": []
    },
    {
      "cell_type": "markdown",
      "source": [
        "### 파일 읽어오기\n",
        " - 판다스는 'read_csv'라는 기능으로 파일을 읽어올 수 있습니다\n",
        "  - 텍스트가 콤마로 구분된 파일"
      ],
      "metadata": {
        "id": "5EDkGWMj_WaU"
      }
    },
    {
      "cell_type": "code",
      "source": [
        "type(rawData)"
      ],
      "metadata": {
        "colab": {
          "base_uri": "https://localhost:8080/"
        },
        "id": "TMNmycNoAYJN",
        "outputId": "3ff44ffd-957d-4d5b-8a5f-3d7895b728f4"
      },
      "execution_count": null,
      "outputs": [
        {
          "output_type": "execute_result",
          "data": {
            "text/plain": [
              "pandas.core.frame.DataFrame"
            ]
          },
          "metadata": {},
          "execution_count": 17
        }
      ]
    },
    {
      "cell_type": "code",
      "source": [
        "import pandas as pd\n",
        "rawData = pd.read_csv('/content/drive/MyDrive/멀티캠퍼스/데이터 전용/weight_log.csv')"
      ],
      "metadata": {
        "id": "AMCpXLQi_hMN"
      },
      "execution_count": null,
      "outputs": []
    },
    {
      "cell_type": "code",
      "source": [
        "rawData"
      ],
      "metadata": {
        "colab": {
          "base_uri": "https://localhost:8080/",
          "height": 332
        },
        "id": "yezV7mk8a5TY",
        "outputId": "e978e0e8-78f4-4905-aae6-bc29687cfd08"
      },
      "execution_count": null,
      "outputs": [
        {
          "output_type": "execute_result",
          "data": {
            "text/html": [
              "<div>\n",
              "<style scoped>\n",
              "    .dataframe tbody tr th:only-of-type {\n",
              "        vertical-align: middle;\n",
              "    }\n",
              "\n",
              "    .dataframe tbody tr th {\n",
              "        vertical-align: top;\n",
              "    }\n",
              "\n",
              "    .dataframe thead th {\n",
              "        text-align: right;\n",
              "    }\n",
              "</style>\n",
              "<table border=\"1\" class=\"dataframe\">\n",
              "  <thead>\n",
              "    <tr style=\"text-align: right;\">\n",
              "      <th></th>\n",
              "      <th>회차</th>\n",
              "      <th>이름</th>\n",
              "      <th>측정일</th>\n",
              "      <th>몸무게</th>\n",
              "      <th>단위</th>\n",
              "      <th>담당</th>\n",
              "      <th>지점</th>\n",
              "    </tr>\n",
              "  </thead>\n",
              "  <tbody>\n",
              "    <tr>\n",
              "      <th>0</th>\n",
              "      <td>1</td>\n",
              "      <td>홍길동</td>\n",
              "      <td>2020-03-01</td>\n",
              "      <td>76.4</td>\n",
              "      <td>kg</td>\n",
              "      <td>박현경</td>\n",
              "      <td>관악구</td>\n",
              "    </tr>\n",
              "    <tr>\n",
              "      <th>1</th>\n",
              "      <td>2</td>\n",
              "      <td>홍길동</td>\n",
              "      <td>2020-03-02</td>\n",
              "      <td>75.7</td>\n",
              "      <td>kg</td>\n",
              "      <td>김현경</td>\n",
              "      <td>관악구</td>\n",
              "    </tr>\n",
              "    <tr>\n",
              "      <th>2</th>\n",
              "      <td>3</td>\n",
              "      <td>홍길동</td>\n",
              "      <td>2020-03-03</td>\n",
              "      <td>76.0</td>\n",
              "      <td>kg</td>\n",
              "      <td>최현경</td>\n",
              "      <td>여의도</td>\n",
              "    </tr>\n",
              "    <tr>\n",
              "      <th>3</th>\n",
              "      <td>4</td>\n",
              "      <td>홍길동</td>\n",
              "      <td>2020-03-04</td>\n",
              "      <td>NaN</td>\n",
              "      <td>kg</td>\n",
              "      <td>최현경</td>\n",
              "      <td>여의도</td>\n",
              "    </tr>\n",
              "    <tr>\n",
              "      <th>4</th>\n",
              "      <td>5</td>\n",
              "      <td>홍길동</td>\n",
              "      <td>2020-03-05</td>\n",
              "      <td>76.2</td>\n",
              "      <td>kg</td>\n",
              "      <td>김현경</td>\n",
              "      <td>강남구</td>\n",
              "    </tr>\n",
              "    <tr>\n",
              "      <th>5</th>\n",
              "      <td>6</td>\n",
              "      <td>홍길동</td>\n",
              "      <td>2020-03-06</td>\n",
              "      <td>75.7</td>\n",
              "      <td>kg</td>\n",
              "      <td>최현경</td>\n",
              "      <td>서초구</td>\n",
              "    </tr>\n",
              "    <tr>\n",
              "      <th>6</th>\n",
              "      <td>7</td>\n",
              "      <td>홍길동</td>\n",
              "      <td>2020-03-07</td>\n",
              "      <td>NaN</td>\n",
              "      <td>kg</td>\n",
              "      <td>최현경</td>\n",
              "      <td>서초구</td>\n",
              "    </tr>\n",
              "    <tr>\n",
              "      <th>7</th>\n",
              "      <td>8</td>\n",
              "      <td>홍길동</td>\n",
              "      <td>2020-03-08</td>\n",
              "      <td>NaN</td>\n",
              "      <td>kg</td>\n",
              "      <td>김현경</td>\n",
              "      <td>서초구</td>\n",
              "    </tr>\n",
              "    <tr>\n",
              "      <th>8</th>\n",
              "      <td>9</td>\n",
              "      <td>홍길동</td>\n",
              "      <td>2020-03-09</td>\n",
              "      <td>75.0</td>\n",
              "      <td>kg</td>\n",
              "      <td>김현경</td>\n",
              "      <td>서초구</td>\n",
              "    </tr>\n",
              "  </tbody>\n",
              "</table>\n",
              "</div>"
            ],
            "text/plain": [
              "   회차   이름         측정일   몸무게  단위   담당   지점\n",
              "0   1  홍길동  2020-03-01  76.4  kg  박현경  관악구\n",
              "1   2  홍길동  2020-03-02  75.7  kg  김현경  관악구\n",
              "2   3  홍길동  2020-03-03  76.0  kg  최현경  여의도\n",
              "3   4  홍길동  2020-03-04   NaN  kg  최현경  여의도\n",
              "4   5  홍길동  2020-03-05  76.2  kg  김현경  강남구\n",
              "5   6  홍길동  2020-03-06  75.7  kg  최현경  서초구\n",
              "6   7  홍길동  2020-03-07   NaN  kg  최현경  서초구\n",
              "7   8  홍길동  2020-03-08   NaN  kg  김현경  서초구\n",
              "8   9  홍길동  2020-03-09  75.0  kg  김현경  서초구"
            ]
          },
          "metadata": {},
          "execution_count": 19
        }
      ]
    },
    {
      "cell_type": "markdown",
      "source": [
        "## 데이터 프레임 사용하기"
      ],
      "metadata": {
        "id": "xTMw5gTgBLyy"
      }
    },
    {
      "cell_type": "code",
      "source": [
        "rawData.head() #상위 5개 자료를 출력"
      ],
      "metadata": {
        "colab": {
          "base_uri": "https://localhost:8080/",
          "height": 206
        },
        "id": "sNeDyxNmAz2a",
        "outputId": "c0e74055-f260-488e-fa03-738f567211b4"
      },
      "execution_count": null,
      "outputs": [
        {
          "output_type": "execute_result",
          "data": {
            "text/html": [
              "<div>\n",
              "<style scoped>\n",
              "    .dataframe tbody tr th:only-of-type {\n",
              "        vertical-align: middle;\n",
              "    }\n",
              "\n",
              "    .dataframe tbody tr th {\n",
              "        vertical-align: top;\n",
              "    }\n",
              "\n",
              "    .dataframe thead th {\n",
              "        text-align: right;\n",
              "    }\n",
              "</style>\n",
              "<table border=\"1\" class=\"dataframe\">\n",
              "  <thead>\n",
              "    <tr style=\"text-align: right;\">\n",
              "      <th></th>\n",
              "      <th>회차</th>\n",
              "      <th>이름</th>\n",
              "      <th>측정일</th>\n",
              "      <th>몸무게</th>\n",
              "      <th>단위</th>\n",
              "      <th>담당</th>\n",
              "      <th>지점</th>\n",
              "    </tr>\n",
              "  </thead>\n",
              "  <tbody>\n",
              "    <tr>\n",
              "      <th>0</th>\n",
              "      <td>1</td>\n",
              "      <td>홍길동</td>\n",
              "      <td>2020-03-01</td>\n",
              "      <td>76.4</td>\n",
              "      <td>kg</td>\n",
              "      <td>박현경</td>\n",
              "      <td>관악구</td>\n",
              "    </tr>\n",
              "    <tr>\n",
              "      <th>1</th>\n",
              "      <td>2</td>\n",
              "      <td>홍길동</td>\n",
              "      <td>2020-03-02</td>\n",
              "      <td>75.7</td>\n",
              "      <td>kg</td>\n",
              "      <td>김현경</td>\n",
              "      <td>관악구</td>\n",
              "    </tr>\n",
              "    <tr>\n",
              "      <th>2</th>\n",
              "      <td>3</td>\n",
              "      <td>홍길동</td>\n",
              "      <td>2020-03-03</td>\n",
              "      <td>76.0</td>\n",
              "      <td>kg</td>\n",
              "      <td>최현경</td>\n",
              "      <td>여의도</td>\n",
              "    </tr>\n",
              "    <tr>\n",
              "      <th>3</th>\n",
              "      <td>4</td>\n",
              "      <td>홍길동</td>\n",
              "      <td>2020-03-04</td>\n",
              "      <td>NaN</td>\n",
              "      <td>kg</td>\n",
              "      <td>최현경</td>\n",
              "      <td>여의도</td>\n",
              "    </tr>\n",
              "    <tr>\n",
              "      <th>4</th>\n",
              "      <td>5</td>\n",
              "      <td>홍길동</td>\n",
              "      <td>2020-03-05</td>\n",
              "      <td>76.2</td>\n",
              "      <td>kg</td>\n",
              "      <td>김현경</td>\n",
              "      <td>강남구</td>\n",
              "    </tr>\n",
              "  </tbody>\n",
              "</table>\n",
              "</div>"
            ],
            "text/plain": [
              "   회차   이름         측정일   몸무게  단위   담당   지점\n",
              "0   1  홍길동  2020-03-01  76.4  kg  박현경  관악구\n",
              "1   2  홍길동  2020-03-02  75.7  kg  김현경  관악구\n",
              "2   3  홍길동  2020-03-03  76.0  kg  최현경  여의도\n",
              "3   4  홍길동  2020-03-04   NaN  kg  최현경  여의도\n",
              "4   5  홍길동  2020-03-05  76.2  kg  김현경  강남구"
            ]
          },
          "metadata": {},
          "execution_count": 26
        }
      ]
    },
    {
      "cell_type": "code",
      "source": [
        "rawData.tail() #하위 5개 자료를 출력"
      ],
      "metadata": {
        "colab": {
          "base_uri": "https://localhost:8080/",
          "height": 206
        },
        "id": "m_IKC-p1BDk6",
        "outputId": "45749e1f-1355-4a42-c1c1-d44fcb0e0b2e"
      },
      "execution_count": null,
      "outputs": [
        {
          "output_type": "execute_result",
          "data": {
            "text/html": [
              "<div>\n",
              "<style scoped>\n",
              "    .dataframe tbody tr th:only-of-type {\n",
              "        vertical-align: middle;\n",
              "    }\n",
              "\n",
              "    .dataframe tbody tr th {\n",
              "        vertical-align: top;\n",
              "    }\n",
              "\n",
              "    .dataframe thead th {\n",
              "        text-align: right;\n",
              "    }\n",
              "</style>\n",
              "<table border=\"1\" class=\"dataframe\">\n",
              "  <thead>\n",
              "    <tr style=\"text-align: right;\">\n",
              "      <th></th>\n",
              "      <th>회차</th>\n",
              "      <th>이름</th>\n",
              "      <th>측정일</th>\n",
              "      <th>몸무게</th>\n",
              "      <th>단위</th>\n",
              "      <th>담당</th>\n",
              "      <th>지점</th>\n",
              "    </tr>\n",
              "  </thead>\n",
              "  <tbody>\n",
              "    <tr>\n",
              "      <th>4</th>\n",
              "      <td>5</td>\n",
              "      <td>홍길동</td>\n",
              "      <td>2020-03-05</td>\n",
              "      <td>76.2</td>\n",
              "      <td>kg</td>\n",
              "      <td>김현경</td>\n",
              "      <td>강남구</td>\n",
              "    </tr>\n",
              "    <tr>\n",
              "      <th>5</th>\n",
              "      <td>6</td>\n",
              "      <td>홍길동</td>\n",
              "      <td>2020-03-06</td>\n",
              "      <td>75.7</td>\n",
              "      <td>kg</td>\n",
              "      <td>최현경</td>\n",
              "      <td>서초구</td>\n",
              "    </tr>\n",
              "    <tr>\n",
              "      <th>6</th>\n",
              "      <td>7</td>\n",
              "      <td>홍길동</td>\n",
              "      <td>2020-03-07</td>\n",
              "      <td>NaN</td>\n",
              "      <td>kg</td>\n",
              "      <td>최현경</td>\n",
              "      <td>서초구</td>\n",
              "    </tr>\n",
              "    <tr>\n",
              "      <th>7</th>\n",
              "      <td>8</td>\n",
              "      <td>홍길동</td>\n",
              "      <td>2020-03-08</td>\n",
              "      <td>NaN</td>\n",
              "      <td>kg</td>\n",
              "      <td>김현경</td>\n",
              "      <td>서초구</td>\n",
              "    </tr>\n",
              "    <tr>\n",
              "      <th>8</th>\n",
              "      <td>9</td>\n",
              "      <td>홍길동</td>\n",
              "      <td>2020-03-09</td>\n",
              "      <td>75.0</td>\n",
              "      <td>kg</td>\n",
              "      <td>김현경</td>\n",
              "      <td>서초구</td>\n",
              "    </tr>\n",
              "  </tbody>\n",
              "</table>\n",
              "</div>"
            ],
            "text/plain": [
              "   회차   이름         측정일   몸무게  단위   담당   지점\n",
              "4   5  홍길동  2020-03-05  76.2  kg  김현경  강남구\n",
              "5   6  홍길동  2020-03-06  75.7  kg  최현경  서초구\n",
              "6   7  홍길동  2020-03-07   NaN  kg  최현경  서초구\n",
              "7   8  홍길동  2020-03-08   NaN  kg  김현경  서초구\n",
              "8   9  홍길동  2020-03-09  75.0  kg  김현경  서초구"
            ]
          },
          "metadata": {},
          "execution_count": 16
        }
      ]
    },
    {
      "cell_type": "code",
      "source": [
        "# 파라미터를 통해서 출력 갯수를 제한\n",
        "rawData.head(2)"
      ],
      "metadata": {
        "colab": {
          "base_uri": "https://localhost:8080/",
          "height": 112
        },
        "id": "ZiD6vluHC2Pl",
        "outputId": "2fb16dc2-f1ff-4460-e849-0ea898d029f1"
      },
      "execution_count": null,
      "outputs": [
        {
          "output_type": "execute_result",
          "data": {
            "text/html": [
              "<div>\n",
              "<style scoped>\n",
              "    .dataframe tbody tr th:only-of-type {\n",
              "        vertical-align: middle;\n",
              "    }\n",
              "\n",
              "    .dataframe tbody tr th {\n",
              "        vertical-align: top;\n",
              "    }\n",
              "\n",
              "    .dataframe thead th {\n",
              "        text-align: right;\n",
              "    }\n",
              "</style>\n",
              "<table border=\"1\" class=\"dataframe\">\n",
              "  <thead>\n",
              "    <tr style=\"text-align: right;\">\n",
              "      <th></th>\n",
              "      <th>회차</th>\n",
              "      <th>이름</th>\n",
              "      <th>측정일</th>\n",
              "      <th>몸무게</th>\n",
              "      <th>단위</th>\n",
              "      <th>담당</th>\n",
              "      <th>지점</th>\n",
              "    </tr>\n",
              "  </thead>\n",
              "  <tbody>\n",
              "    <tr>\n",
              "      <th>0</th>\n",
              "      <td>1</td>\n",
              "      <td>홍길동</td>\n",
              "      <td>2020-03-01</td>\n",
              "      <td>76.4</td>\n",
              "      <td>kg</td>\n",
              "      <td>박현경</td>\n",
              "      <td>관악구</td>\n",
              "    </tr>\n",
              "    <tr>\n",
              "      <th>1</th>\n",
              "      <td>2</td>\n",
              "      <td>홍길동</td>\n",
              "      <td>2020-03-02</td>\n",
              "      <td>75.7</td>\n",
              "      <td>kg</td>\n",
              "      <td>김현경</td>\n",
              "      <td>관악구</td>\n",
              "    </tr>\n",
              "  </tbody>\n",
              "</table>\n",
              "</div>"
            ],
            "text/plain": [
              "   회차   이름         측정일   몸무게  단위   담당   지점\n",
              "0   1  홍길동  2020-03-01  76.4  kg  박현경  관악구\n",
              "1   2  홍길동  2020-03-02  75.7  kg  김현경  관악구"
            ]
          },
          "metadata": {},
          "execution_count": 2
        }
      ]
    },
    {
      "cell_type": "code",
      "source": [
        "rawData.tail(2)"
      ],
      "metadata": {
        "colab": {
          "base_uri": "https://localhost:8080/",
          "height": 112
        },
        "id": "a6UAxSiKECEr",
        "outputId": "70a83c2d-be13-41da-d491-51d6adfca624"
      },
      "execution_count": null,
      "outputs": [
        {
          "output_type": "execute_result",
          "data": {
            "text/html": [
              "<div>\n",
              "<style scoped>\n",
              "    .dataframe tbody tr th:only-of-type {\n",
              "        vertical-align: middle;\n",
              "    }\n",
              "\n",
              "    .dataframe tbody tr th {\n",
              "        vertical-align: top;\n",
              "    }\n",
              "\n",
              "    .dataframe thead th {\n",
              "        text-align: right;\n",
              "    }\n",
              "</style>\n",
              "<table border=\"1\" class=\"dataframe\">\n",
              "  <thead>\n",
              "    <tr style=\"text-align: right;\">\n",
              "      <th></th>\n",
              "      <th>회차</th>\n",
              "      <th>이름</th>\n",
              "      <th>측정일</th>\n",
              "      <th>몸무게</th>\n",
              "      <th>단위</th>\n",
              "      <th>담당</th>\n",
              "      <th>지점</th>\n",
              "    </tr>\n",
              "  </thead>\n",
              "  <tbody>\n",
              "    <tr>\n",
              "      <th>7</th>\n",
              "      <td>8</td>\n",
              "      <td>홍길동</td>\n",
              "      <td>2020-03-08</td>\n",
              "      <td>NaN</td>\n",
              "      <td>kg</td>\n",
              "      <td>김현경</td>\n",
              "      <td>서초구</td>\n",
              "    </tr>\n",
              "    <tr>\n",
              "      <th>8</th>\n",
              "      <td>9</td>\n",
              "      <td>홍길동</td>\n",
              "      <td>2020-03-09</td>\n",
              "      <td>75.0</td>\n",
              "      <td>kg</td>\n",
              "      <td>김현경</td>\n",
              "      <td>서초구</td>\n",
              "    </tr>\n",
              "  </tbody>\n",
              "</table>\n",
              "</div>"
            ],
            "text/plain": [
              "   회차   이름         측정일   몸무게  단위   담당   지점\n",
              "7   8  홍길동  2020-03-08   NaN  kg  김현경  서초구\n",
              "8   9  홍길동  2020-03-09  75.0  kg  김현경  서초구"
            ]
          },
          "metadata": {},
          "execution_count": 3
        }
      ]
    },
    {
      "cell_type": "markdown",
      "source": [
        "### 출력"
      ],
      "metadata": {
        "id": "JZRtPSVpc033"
      }
    },
    {
      "cell_type": "markdown",
      "source": [
        "### 데이터의 요약된 정보"
      ],
      "metadata": {
        "id": "6GkUcNj6c0wH"
      }
    },
    {
      "cell_type": "markdown",
      "source": [
        "## 인덱싱"
      ],
      "metadata": {
        "id": "xzxdkZmgc0dq"
      }
    },
    {
      "cell_type": "markdown",
      "source": [
        "### 열 인덱싱"
      ],
      "metadata": {
        "id": "YDgZWQZqdHWn"
      }
    },
    {
      "cell_type": "markdown",
      "source": [
        "### 행 인덱싱"
      ],
      "metadata": {
        "id": "Ii22zatldHjo"
      }
    },
    {
      "cell_type": "markdown",
      "source": [
        "### 행, 열 인덱싱"
      ],
      "metadata": {
        "id": "Eo0fHw5PdMUb"
      }
    },
    {
      "cell_type": "markdown",
      "source": [
        "### loc vs iloc"
      ],
      "metadata": {
        "id": "9GT7wY_SdPW3"
      }
    },
    {
      "cell_type": "markdown",
      "source": [
        "## 조건검색"
      ],
      "metadata": {
        "id": "hmT9LHr3bqzo"
      }
    },
    {
      "cell_type": "code",
      "source": [
        "rawData.loc[0:3, '이름':'몸무게']"
      ],
      "metadata": {
        "colab": {
          "base_uri": "https://localhost:8080/",
          "height": 175
        },
        "id": "vyphwn1mEDk0",
        "outputId": "a872897b-ee44-4efa-c186-458da1f703e4"
      },
      "execution_count": null,
      "outputs": [
        {
          "output_type": "execute_result",
          "data": {
            "text/html": [
              "<div>\n",
              "<style scoped>\n",
              "    .dataframe tbody tr th:only-of-type {\n",
              "        vertical-align: middle;\n",
              "    }\n",
              "\n",
              "    .dataframe tbody tr th {\n",
              "        vertical-align: top;\n",
              "    }\n",
              "\n",
              "    .dataframe thead th {\n",
              "        text-align: right;\n",
              "    }\n",
              "</style>\n",
              "<table border=\"1\" class=\"dataframe\">\n",
              "  <thead>\n",
              "    <tr style=\"text-align: right;\">\n",
              "      <th></th>\n",
              "      <th>이름</th>\n",
              "      <th>측정일</th>\n",
              "      <th>몸무게</th>\n",
              "    </tr>\n",
              "  </thead>\n",
              "  <tbody>\n",
              "    <tr>\n",
              "      <th>0</th>\n",
              "      <td>홍길동</td>\n",
              "      <td>2020-03-01</td>\n",
              "      <td>76.4</td>\n",
              "    </tr>\n",
              "    <tr>\n",
              "      <th>1</th>\n",
              "      <td>홍길동</td>\n",
              "      <td>2020-03-02</td>\n",
              "      <td>75.7</td>\n",
              "    </tr>\n",
              "    <tr>\n",
              "      <th>2</th>\n",
              "      <td>홍길동</td>\n",
              "      <td>2020-03-03</td>\n",
              "      <td>76.0</td>\n",
              "    </tr>\n",
              "    <tr>\n",
              "      <th>3</th>\n",
              "      <td>홍길동</td>\n",
              "      <td>2020-03-04</td>\n",
              "      <td>NaN</td>\n",
              "    </tr>\n",
              "  </tbody>\n",
              "</table>\n",
              "</div>"
            ],
            "text/plain": [
              "    이름         측정일   몸무게\n",
              "0  홍길동  2020-03-01  76.4\n",
              "1  홍길동  2020-03-02  75.7\n",
              "2  홍길동  2020-03-03  76.0\n",
              "3  홍길동  2020-03-04   NaN"
            ]
          },
          "metadata": {},
          "execution_count": 6
        }
      ]
    },
    {
      "cell_type": "markdown",
      "source": [
        "### 다중조건\n",
        " and, or, not\n",
        "- 판다스는 &(앰퍼샌드), |(파이프라인), !(느낌표)     문자를 사용해서 표현 합니다.\n",
        " - 우선순위가 매우 헷갈려요\n",
        "괄호를 이용해서 정확하게 표현 해주시는게 좋습니다"
      ],
      "metadata": {
        "id": "wp69dUkvcHT3"
      }
    },
    {
      "cell_type": "code",
      "source": [
        "# 서초구 지점의 최현경 담당자의 자료만 검색\n",
        "rawData[ (rawData['지점'] == '서초구') & (rawData['담당'] == '최현경') ] "
      ],
      "metadata": {
        "colab": {
          "base_uri": "https://localhost:8080/",
          "height": 112
        },
        "id": "3SBFme43b_Ci",
        "outputId": "f1a91771-e162-411d-caeb-69606434d145"
      },
      "execution_count": null,
      "outputs": [
        {
          "output_type": "execute_result",
          "data": {
            "text/html": [
              "<div>\n",
              "<style scoped>\n",
              "    .dataframe tbody tr th:only-of-type {\n",
              "        vertical-align: middle;\n",
              "    }\n",
              "\n",
              "    .dataframe tbody tr th {\n",
              "        vertical-align: top;\n",
              "    }\n",
              "\n",
              "    .dataframe thead th {\n",
              "        text-align: right;\n",
              "    }\n",
              "</style>\n",
              "<table border=\"1\" class=\"dataframe\">\n",
              "  <thead>\n",
              "    <tr style=\"text-align: right;\">\n",
              "      <th></th>\n",
              "      <th>회차</th>\n",
              "      <th>이름</th>\n",
              "      <th>측정일</th>\n",
              "      <th>몸무게</th>\n",
              "      <th>단위</th>\n",
              "      <th>담당</th>\n",
              "      <th>지점</th>\n",
              "    </tr>\n",
              "  </thead>\n",
              "  <tbody>\n",
              "    <tr>\n",
              "      <th>5</th>\n",
              "      <td>6</td>\n",
              "      <td>홍길동</td>\n",
              "      <td>2020-03-06</td>\n",
              "      <td>75.7</td>\n",
              "      <td>kg</td>\n",
              "      <td>최현경</td>\n",
              "      <td>서초구</td>\n",
              "    </tr>\n",
              "    <tr>\n",
              "      <th>6</th>\n",
              "      <td>7</td>\n",
              "      <td>홍길동</td>\n",
              "      <td>2020-03-07</td>\n",
              "      <td>NaN</td>\n",
              "      <td>kg</td>\n",
              "      <td>최현경</td>\n",
              "      <td>서초구</td>\n",
              "    </tr>\n",
              "  </tbody>\n",
              "</table>\n",
              "</div>"
            ],
            "text/plain": [
              "   회차   이름         측정일   몸무게  단위   담당   지점\n",
              "5   6  홍길동  2020-03-06  75.7  kg  최현경  서초구\n",
              "6   7  홍길동  2020-03-07   NaN  kg  최현경  서초구"
            ]
          },
          "metadata": {},
          "execution_count": 7
        }
      ]
    },
    {
      "cell_type": "code",
      "source": [
        "#서초구 지점의 김현경,최현경 담당자의 자료만 검색\n",
        "rawData[ (rawData['지점'] == '서초구') & ((rawData['담당'] == '최현경') |(rawData['담당'] == '김현경')) ] "
      ],
      "metadata": {
        "colab": {
          "base_uri": "https://localhost:8080/",
          "height": 175
        },
        "id": "MdiYoup5dXC_",
        "outputId": "cc09ad2f-ae5a-4176-c3b6-2a9ceabe8b33"
      },
      "execution_count": null,
      "outputs": [
        {
          "output_type": "execute_result",
          "data": {
            "text/html": [
              "<div>\n",
              "<style scoped>\n",
              "    .dataframe tbody tr th:only-of-type {\n",
              "        vertical-align: middle;\n",
              "    }\n",
              "\n",
              "    .dataframe tbody tr th {\n",
              "        vertical-align: top;\n",
              "    }\n",
              "\n",
              "    .dataframe thead th {\n",
              "        text-align: right;\n",
              "    }\n",
              "</style>\n",
              "<table border=\"1\" class=\"dataframe\">\n",
              "  <thead>\n",
              "    <tr style=\"text-align: right;\">\n",
              "      <th></th>\n",
              "      <th>회차</th>\n",
              "      <th>이름</th>\n",
              "      <th>측정일</th>\n",
              "      <th>몸무게</th>\n",
              "      <th>단위</th>\n",
              "      <th>담당</th>\n",
              "      <th>지점</th>\n",
              "    </tr>\n",
              "  </thead>\n",
              "  <tbody>\n",
              "    <tr>\n",
              "      <th>5</th>\n",
              "      <td>6</td>\n",
              "      <td>홍길동</td>\n",
              "      <td>2020-03-06</td>\n",
              "      <td>75.7</td>\n",
              "      <td>kg</td>\n",
              "      <td>최현경</td>\n",
              "      <td>서초구</td>\n",
              "    </tr>\n",
              "    <tr>\n",
              "      <th>6</th>\n",
              "      <td>7</td>\n",
              "      <td>홍길동</td>\n",
              "      <td>2020-03-07</td>\n",
              "      <td>NaN</td>\n",
              "      <td>kg</td>\n",
              "      <td>최현경</td>\n",
              "      <td>서초구</td>\n",
              "    </tr>\n",
              "    <tr>\n",
              "      <th>7</th>\n",
              "      <td>8</td>\n",
              "      <td>홍길동</td>\n",
              "      <td>2020-03-08</td>\n",
              "      <td>NaN</td>\n",
              "      <td>kg</td>\n",
              "      <td>김현경</td>\n",
              "      <td>서초구</td>\n",
              "    </tr>\n",
              "    <tr>\n",
              "      <th>8</th>\n",
              "      <td>9</td>\n",
              "      <td>홍길동</td>\n",
              "      <td>2020-03-09</td>\n",
              "      <td>75.0</td>\n",
              "      <td>kg</td>\n",
              "      <td>김현경</td>\n",
              "      <td>서초구</td>\n",
              "    </tr>\n",
              "  </tbody>\n",
              "</table>\n",
              "</div>"
            ],
            "text/plain": [
              "   회차   이름         측정일   몸무게  단위   담당   지점\n",
              "5   6  홍길동  2020-03-06  75.7  kg  최현경  서초구\n",
              "6   7  홍길동  2020-03-07   NaN  kg  최현경  서초구\n",
              "7   8  홍길동  2020-03-08   NaN  kg  김현경  서초구\n",
              "8   9  홍길동  2020-03-09  75.0  kg  김현경  서초구"
            ]
          },
          "metadata": {},
          "execution_count": 12
        }
      ]
    },
    {
      "cell_type": "markdown",
      "source": [
        "### 문자열 처리"
      ],
      "metadata": {
        "id": "8IBeacpff1-Z"
      }
    },
    {
      "cell_type": "code",
      "source": [
        "# isin은 리스트를 파라미터로 갖습니다. \n",
        "# 리스트 내의 값들 중에서 하나라도 존재하면 True, 그렇지 않으면 False\n",
        "rawData[ (rawData['지점'] == '서초구') & (rawData['담당'].isin(['김현경', '최현경'])) ]"
      ],
      "metadata": {
        "colab": {
          "base_uri": "https://localhost:8080/",
          "height": 175
        },
        "id": "b9C8_M84f4KX",
        "outputId": "b9d9756c-1ff7-4286-c585-0a9a66226878"
      },
      "execution_count": null,
      "outputs": [
        {
          "output_type": "execute_result",
          "data": {
            "text/html": [
              "<div>\n",
              "<style scoped>\n",
              "    .dataframe tbody tr th:only-of-type {\n",
              "        vertical-align: middle;\n",
              "    }\n",
              "\n",
              "    .dataframe tbody tr th {\n",
              "        vertical-align: top;\n",
              "    }\n",
              "\n",
              "    .dataframe thead th {\n",
              "        text-align: right;\n",
              "    }\n",
              "</style>\n",
              "<table border=\"1\" class=\"dataframe\">\n",
              "  <thead>\n",
              "    <tr style=\"text-align: right;\">\n",
              "      <th></th>\n",
              "      <th>회차</th>\n",
              "      <th>이름</th>\n",
              "      <th>측정일</th>\n",
              "      <th>몸무게</th>\n",
              "      <th>단위</th>\n",
              "      <th>담당</th>\n",
              "      <th>지점</th>\n",
              "    </tr>\n",
              "  </thead>\n",
              "  <tbody>\n",
              "    <tr>\n",
              "      <th>5</th>\n",
              "      <td>6</td>\n",
              "      <td>홍길동</td>\n",
              "      <td>2020-03-06</td>\n",
              "      <td>75.7</td>\n",
              "      <td>kg</td>\n",
              "      <td>최현경</td>\n",
              "      <td>서초구</td>\n",
              "    </tr>\n",
              "    <tr>\n",
              "      <th>6</th>\n",
              "      <td>7</td>\n",
              "      <td>홍길동</td>\n",
              "      <td>2020-03-07</td>\n",
              "      <td>NaN</td>\n",
              "      <td>kg</td>\n",
              "      <td>최현경</td>\n",
              "      <td>서초구</td>\n",
              "    </tr>\n",
              "    <tr>\n",
              "      <th>7</th>\n",
              "      <td>8</td>\n",
              "      <td>홍길동</td>\n",
              "      <td>2020-03-08</td>\n",
              "      <td>NaN</td>\n",
              "      <td>kg</td>\n",
              "      <td>김현경</td>\n",
              "      <td>서초구</td>\n",
              "    </tr>\n",
              "    <tr>\n",
              "      <th>8</th>\n",
              "      <td>9</td>\n",
              "      <td>홍길동</td>\n",
              "      <td>2020-03-09</td>\n",
              "      <td>75.0</td>\n",
              "      <td>kg</td>\n",
              "      <td>김현경</td>\n",
              "      <td>서초구</td>\n",
              "    </tr>\n",
              "  </tbody>\n",
              "</table>\n",
              "</div>"
            ],
            "text/plain": [
              "   회차   이름         측정일   몸무게  단위   담당   지점\n",
              "5   6  홍길동  2020-03-06  75.7  kg  최현경  서초구\n",
              "6   7  홍길동  2020-03-07   NaN  kg  최현경  서초구\n",
              "7   8  홍길동  2020-03-08   NaN  kg  김현경  서초구\n",
              "8   9  홍길동  2020-03-09  75.0  kg  김현경  서초구"
            ]
          },
          "metadata": {},
          "execution_count": 13
        }
      ]
    },
    {
      "cell_type": "code",
      "source": [
        "# 담당자들 중에 성이 '김'씨인 자료만 검색\n",
        "# contains는 문자열 내에서 특정 문자열이 존재하면 True, 그렇지 않으면 False\n",
        "rawData[ rawData['담당'].str.contains('김') ]"
      ],
      "metadata": {
        "colab": {
          "base_uri": "https://localhost:8080/",
          "height": 175
        },
        "id": "a91IsC_ygKSm",
        "outputId": "095e2d08-46ca-4ce7-b938-7a602c022552"
      },
      "execution_count": null,
      "outputs": [
        {
          "output_type": "execute_result",
          "data": {
            "text/html": [
              "<div>\n",
              "<style scoped>\n",
              "    .dataframe tbody tr th:only-of-type {\n",
              "        vertical-align: middle;\n",
              "    }\n",
              "\n",
              "    .dataframe tbody tr th {\n",
              "        vertical-align: top;\n",
              "    }\n",
              "\n",
              "    .dataframe thead th {\n",
              "        text-align: right;\n",
              "    }\n",
              "</style>\n",
              "<table border=\"1\" class=\"dataframe\">\n",
              "  <thead>\n",
              "    <tr style=\"text-align: right;\">\n",
              "      <th></th>\n",
              "      <th>회차</th>\n",
              "      <th>이름</th>\n",
              "      <th>측정일</th>\n",
              "      <th>몸무게</th>\n",
              "      <th>단위</th>\n",
              "      <th>담당</th>\n",
              "      <th>지점</th>\n",
              "    </tr>\n",
              "  </thead>\n",
              "  <tbody>\n",
              "    <tr>\n",
              "      <th>1</th>\n",
              "      <td>2</td>\n",
              "      <td>홍길동</td>\n",
              "      <td>2020-03-02</td>\n",
              "      <td>75.7</td>\n",
              "      <td>kg</td>\n",
              "      <td>김현경</td>\n",
              "      <td>관악구</td>\n",
              "    </tr>\n",
              "    <tr>\n",
              "      <th>4</th>\n",
              "      <td>5</td>\n",
              "      <td>홍길동</td>\n",
              "      <td>2020-03-05</td>\n",
              "      <td>76.2</td>\n",
              "      <td>kg</td>\n",
              "      <td>김현경</td>\n",
              "      <td>강남구</td>\n",
              "    </tr>\n",
              "    <tr>\n",
              "      <th>7</th>\n",
              "      <td>8</td>\n",
              "      <td>홍길동</td>\n",
              "      <td>2020-03-08</td>\n",
              "      <td>NaN</td>\n",
              "      <td>kg</td>\n",
              "      <td>김현경</td>\n",
              "      <td>서초구</td>\n",
              "    </tr>\n",
              "    <tr>\n",
              "      <th>8</th>\n",
              "      <td>9</td>\n",
              "      <td>홍길동</td>\n",
              "      <td>2020-03-09</td>\n",
              "      <td>75.0</td>\n",
              "      <td>kg</td>\n",
              "      <td>김현경</td>\n",
              "      <td>서초구</td>\n",
              "    </tr>\n",
              "  </tbody>\n",
              "</table>\n",
              "</div>"
            ],
            "text/plain": [
              "   회차   이름         측정일   몸무게  단위   담당   지점\n",
              "1   2  홍길동  2020-03-02  75.7  kg  김현경  관악구\n",
              "4   5  홍길동  2020-03-05  76.2  kg  김현경  강남구\n",
              "7   8  홍길동  2020-03-08   NaN  kg  김현경  서초구\n",
              "8   9  홍길동  2020-03-09  75.0  kg  김현경  서초구"
            ]
          },
          "metadata": {},
          "execution_count": 14
        }
      ]
    },
    {
      "cell_type": "markdown",
      "source": [
        "### 이상치"
      ],
      "metadata": {
        "id": "QiPxR7EXn4TH"
      }
    },
    {
      "cell_type": "code",
      "source": [
        "rawData['몸무게'].describe()"
      ],
      "metadata": {
        "colab": {
          "base_uri": "https://localhost:8080/"
        },
        "id": "g91M3W9Qn4g2",
        "outputId": "84bc27e4-7ccc-48ef-e5c4-52c7211d46b3"
      },
      "execution_count": null,
      "outputs": [
        {
          "output_type": "execute_result",
          "data": {
            "text/plain": [
              "count     6.000000\n",
              "mean     75.833333\n",
              "std       0.492612\n",
              "min      75.000000\n",
              "25%      75.700000\n",
              "50%      75.850000\n",
              "75%      76.150000\n",
              "max      76.400000\n",
              "Name: 몸무게, dtype: float64"
            ]
          },
          "metadata": {},
          "execution_count": 16
        }
      ]
    },
    {
      "cell_type": "code",
      "source": [
        "#특정 값을 넘어가는 자료를 이상치로 판단\n",
        "rawData[rawData['몸무게'] > 76.15 ] "
      ],
      "metadata": {
        "colab": {
          "base_uri": "https://localhost:8080/",
          "height": 112
        },
        "id": "ZhYHSz0poKAG",
        "outputId": "d5e31a87-9793-4e29-b20b-7f01cda3114d"
      },
      "execution_count": null,
      "outputs": [
        {
          "output_type": "execute_result",
          "data": {
            "text/html": [
              "<div>\n",
              "<style scoped>\n",
              "    .dataframe tbody tr th:only-of-type {\n",
              "        vertical-align: middle;\n",
              "    }\n",
              "\n",
              "    .dataframe tbody tr th {\n",
              "        vertical-align: top;\n",
              "    }\n",
              "\n",
              "    .dataframe thead th {\n",
              "        text-align: right;\n",
              "    }\n",
              "</style>\n",
              "<table border=\"1\" class=\"dataframe\">\n",
              "  <thead>\n",
              "    <tr style=\"text-align: right;\">\n",
              "      <th></th>\n",
              "      <th>회차</th>\n",
              "      <th>이름</th>\n",
              "      <th>측정일</th>\n",
              "      <th>몸무게</th>\n",
              "      <th>단위</th>\n",
              "      <th>담당</th>\n",
              "      <th>지점</th>\n",
              "    </tr>\n",
              "  </thead>\n",
              "  <tbody>\n",
              "    <tr>\n",
              "      <th>0</th>\n",
              "      <td>1</td>\n",
              "      <td>홍길동</td>\n",
              "      <td>2020-03-01</td>\n",
              "      <td>76.4</td>\n",
              "      <td>kg</td>\n",
              "      <td>박현경</td>\n",
              "      <td>관악구</td>\n",
              "    </tr>\n",
              "    <tr>\n",
              "      <th>4</th>\n",
              "      <td>5</td>\n",
              "      <td>홍길동</td>\n",
              "      <td>2020-03-05</td>\n",
              "      <td>76.2</td>\n",
              "      <td>kg</td>\n",
              "      <td>김현경</td>\n",
              "      <td>강남구</td>\n",
              "    </tr>\n",
              "  </tbody>\n",
              "</table>\n",
              "</div>"
            ],
            "text/plain": [
              "   회차   이름         측정일   몸무게  단위   담당   지점\n",
              "0   1  홍길동  2020-03-01  76.4  kg  박현경  관악구\n",
              "4   5  홍길동  2020-03-05  76.2  kg  김현경  강남구"
            ]
          },
          "metadata": {},
          "execution_count": 17
        }
      ]
    },
    {
      "cell_type": "code",
      "source": [
        "# 이상치를 상위 99%를 넘어가는 값\n",
        "#하위 0.1%보다 낮은 값\n",
        "#이상치를 제거하는 법\n",
        "low = rawData['몸무게'].quantile(0.01)\n",
        "high = rawData['몸무게'].quantile(0.99)\n",
        "rawData[(rawData['몸무게'] <high) & (rawData['몸무게'] > low) ] "
      ],
      "metadata": {
        "colab": {
          "base_uri": "https://localhost:8080/",
          "height": 175
        },
        "id": "2u7gWJ81o3Vu",
        "outputId": "8b7b9a00-0c00-4534-8801-6fbf635aa601"
      },
      "execution_count": null,
      "outputs": [
        {
          "output_type": "execute_result",
          "data": {
            "text/html": [
              "<div>\n",
              "<style scoped>\n",
              "    .dataframe tbody tr th:only-of-type {\n",
              "        vertical-align: middle;\n",
              "    }\n",
              "\n",
              "    .dataframe tbody tr th {\n",
              "        vertical-align: top;\n",
              "    }\n",
              "\n",
              "    .dataframe thead th {\n",
              "        text-align: right;\n",
              "    }\n",
              "</style>\n",
              "<table border=\"1\" class=\"dataframe\">\n",
              "  <thead>\n",
              "    <tr style=\"text-align: right;\">\n",
              "      <th></th>\n",
              "      <th>회차</th>\n",
              "      <th>이름</th>\n",
              "      <th>측정일</th>\n",
              "      <th>몸무게</th>\n",
              "      <th>단위</th>\n",
              "      <th>담당</th>\n",
              "      <th>지점</th>\n",
              "    </tr>\n",
              "  </thead>\n",
              "  <tbody>\n",
              "    <tr>\n",
              "      <th>1</th>\n",
              "      <td>2</td>\n",
              "      <td>홍길동</td>\n",
              "      <td>2020-03-02</td>\n",
              "      <td>75.7</td>\n",
              "      <td>kg</td>\n",
              "      <td>김현경</td>\n",
              "      <td>관악구</td>\n",
              "    </tr>\n",
              "    <tr>\n",
              "      <th>2</th>\n",
              "      <td>3</td>\n",
              "      <td>홍길동</td>\n",
              "      <td>2020-03-03</td>\n",
              "      <td>76.0</td>\n",
              "      <td>kg</td>\n",
              "      <td>최현경</td>\n",
              "      <td>여의도</td>\n",
              "    </tr>\n",
              "    <tr>\n",
              "      <th>4</th>\n",
              "      <td>5</td>\n",
              "      <td>홍길동</td>\n",
              "      <td>2020-03-05</td>\n",
              "      <td>76.2</td>\n",
              "      <td>kg</td>\n",
              "      <td>김현경</td>\n",
              "      <td>강남구</td>\n",
              "    </tr>\n",
              "    <tr>\n",
              "      <th>5</th>\n",
              "      <td>6</td>\n",
              "      <td>홍길동</td>\n",
              "      <td>2020-03-06</td>\n",
              "      <td>75.7</td>\n",
              "      <td>kg</td>\n",
              "      <td>최현경</td>\n",
              "      <td>서초구</td>\n",
              "    </tr>\n",
              "  </tbody>\n",
              "</table>\n",
              "</div>"
            ],
            "text/plain": [
              "   회차   이름         측정일   몸무게  단위   담당   지점\n",
              "1   2  홍길동  2020-03-02  75.7  kg  김현경  관악구\n",
              "2   3  홍길동  2020-03-03  76.0  kg  최현경  여의도\n",
              "4   5  홍길동  2020-03-05  76.2  kg  김현경  강남구\n",
              "5   6  홍길동  2020-03-06  75.7  kg  최현경  서초구"
            ]
          },
          "metadata": {},
          "execution_count": 22
        }
      ]
    },
    {
      "cell_type": "code",
      "source": [
        ""
      ],
      "metadata": {
        "id": "Rb-n5cCyo58M"
      },
      "execution_count": null,
      "outputs": []
    },
    {
      "cell_type": "markdown",
      "source": [
        ""
      ],
      "metadata": {
        "id": "wr3QNJOi07VU"
      }
    },
    {
      "cell_type": "code",
      "source": [
        "rawData"
      ],
      "metadata": {
        "colab": {
          "base_uri": "https://localhost:8080/",
          "height": 332
        },
        "id": "yu4dvIjL1Js0",
        "outputId": "ed9cf142-5076-488a-e56b-5f539cc17a25"
      },
      "execution_count": null,
      "outputs": [
        {
          "output_type": "execute_result",
          "data": {
            "text/html": [
              "<div>\n",
              "<style scoped>\n",
              "    .dataframe tbody tr th:only-of-type {\n",
              "        vertical-align: middle;\n",
              "    }\n",
              "\n",
              "    .dataframe tbody tr th {\n",
              "        vertical-align: top;\n",
              "    }\n",
              "\n",
              "    .dataframe thead th {\n",
              "        text-align: right;\n",
              "    }\n",
              "</style>\n",
              "<table border=\"1\" class=\"dataframe\">\n",
              "  <thead>\n",
              "    <tr style=\"text-align: right;\">\n",
              "      <th></th>\n",
              "      <th>회차</th>\n",
              "      <th>이름</th>\n",
              "      <th>측정일</th>\n",
              "      <th>몸무게</th>\n",
              "      <th>단위</th>\n",
              "      <th>담당</th>\n",
              "      <th>지점</th>\n",
              "    </tr>\n",
              "  </thead>\n",
              "  <tbody>\n",
              "    <tr>\n",
              "      <th>0</th>\n",
              "      <td>1</td>\n",
              "      <td>홍길동</td>\n",
              "      <td>2020-03-01</td>\n",
              "      <td>76.4</td>\n",
              "      <td>kg</td>\n",
              "      <td>박현경</td>\n",
              "      <td>관악구</td>\n",
              "    </tr>\n",
              "    <tr>\n",
              "      <th>1</th>\n",
              "      <td>2</td>\n",
              "      <td>홍길동</td>\n",
              "      <td>2020-03-02</td>\n",
              "      <td>75.7</td>\n",
              "      <td>kg</td>\n",
              "      <td>김현경</td>\n",
              "      <td>관악구</td>\n",
              "    </tr>\n",
              "    <tr>\n",
              "      <th>2</th>\n",
              "      <td>3</td>\n",
              "      <td>홍길동</td>\n",
              "      <td>2020-03-03</td>\n",
              "      <td>76.0</td>\n",
              "      <td>kg</td>\n",
              "      <td>최현경</td>\n",
              "      <td>여의도</td>\n",
              "    </tr>\n",
              "    <tr>\n",
              "      <th>3</th>\n",
              "      <td>4</td>\n",
              "      <td>홍길동</td>\n",
              "      <td>2020-03-04</td>\n",
              "      <td>NaN</td>\n",
              "      <td>kg</td>\n",
              "      <td>최현경</td>\n",
              "      <td>여의도</td>\n",
              "    </tr>\n",
              "    <tr>\n",
              "      <th>4</th>\n",
              "      <td>5</td>\n",
              "      <td>홍길동</td>\n",
              "      <td>2020-03-05</td>\n",
              "      <td>76.2</td>\n",
              "      <td>kg</td>\n",
              "      <td>김현경</td>\n",
              "      <td>강남구</td>\n",
              "    </tr>\n",
              "    <tr>\n",
              "      <th>5</th>\n",
              "      <td>6</td>\n",
              "      <td>홍길동</td>\n",
              "      <td>2020-03-06</td>\n",
              "      <td>75.7</td>\n",
              "      <td>kg</td>\n",
              "      <td>최현경</td>\n",
              "      <td>서초구</td>\n",
              "    </tr>\n",
              "    <tr>\n",
              "      <th>6</th>\n",
              "      <td>7</td>\n",
              "      <td>홍길동</td>\n",
              "      <td>2020-03-07</td>\n",
              "      <td>NaN</td>\n",
              "      <td>kg</td>\n",
              "      <td>최현경</td>\n",
              "      <td>서초구</td>\n",
              "    </tr>\n",
              "    <tr>\n",
              "      <th>7</th>\n",
              "      <td>8</td>\n",
              "      <td>홍길동</td>\n",
              "      <td>2020-03-08</td>\n",
              "      <td>NaN</td>\n",
              "      <td>kg</td>\n",
              "      <td>김현경</td>\n",
              "      <td>서초구</td>\n",
              "    </tr>\n",
              "    <tr>\n",
              "      <th>8</th>\n",
              "      <td>9</td>\n",
              "      <td>홍길동</td>\n",
              "      <td>2020-03-09</td>\n",
              "      <td>75.0</td>\n",
              "      <td>kg</td>\n",
              "      <td>김현경</td>\n",
              "      <td>서초구</td>\n",
              "    </tr>\n",
              "  </tbody>\n",
              "</table>\n",
              "</div>"
            ],
            "text/plain": [
              "   회차   이름         측정일   몸무게  단위   담당   지점\n",
              "0   1  홍길동  2020-03-01  76.4  kg  박현경  관악구\n",
              "1   2  홍길동  2020-03-02  75.7  kg  김현경  관악구\n",
              "2   3  홍길동  2020-03-03  76.0  kg  최현경  여의도\n",
              "3   4  홍길동  2020-03-04   NaN  kg  최현경  여의도\n",
              "4   5  홍길동  2020-03-05  76.2  kg  김현경  강남구\n",
              "5   6  홍길동  2020-03-06  75.7  kg  최현경  서초구\n",
              "6   7  홍길동  2020-03-07   NaN  kg  최현경  서초구\n",
              "7   8  홍길동  2020-03-08   NaN  kg  김현경  서초구\n",
              "8   9  홍길동  2020-03-09  75.0  kg  김현경  서초구"
            ]
          },
          "metadata": {},
          "execution_count": 4
        }
      ]
    },
    {
      "cell_type": "code",
      "source": [
        "rawData.loc[ rawData['몸무게'] >= 76, '상태'] = '비만'"
      ],
      "metadata": {
        "id": "QAEGvvE11SJF"
      },
      "execution_count": null,
      "outputs": []
    },
    {
      "cell_type": "code",
      "source": [
        "rawData.loc[ rawData['몸무게'] >= 76, '상태'] = '비만'\n",
        "rawData.loc[ rawData['몸무게'] <= 76, '상태'] = '정상'"
      ],
      "metadata": {
        "id": "A0fhcCzA07mh"
      },
      "execution_count": null,
      "outputs": []
    },
    {
      "cell_type": "markdown",
      "source": [
        "# 프레임 합치기 "
      ],
      "metadata": {
        "id": "J5MpEYKfAWGb"
      }
    },
    {
      "cell_type": "code",
      "source": [
        "user_device = pd.read_csv('/content/drive/MyDrive/멀티캠퍼스/데이터 전용/user_device.csv')"
      ],
      "metadata": {
        "id": "ZPHeqA2WCZ-6"
      },
      "execution_count": null,
      "outputs": []
    },
    {
      "cell_type": "code",
      "source": [
        "user_usage = pd.read_csv('/content/drive/MyDrive/멀티캠퍼스/데이터 전용/user_usage.csv')"
      ],
      "metadata": {
        "id": "LGCLxp7fEEjC"
      },
      "execution_count": null,
      "outputs": []
    },
    {
      "cell_type": "code",
      "source": [
        "user_usage.head(2)"
      ],
      "metadata": {
        "colab": {
          "base_uri": "https://localhost:8080/",
          "height": 112
        },
        "id": "B4iBMgIdENe6",
        "outputId": "b0c3f1db-8f0d-43ce-86b1-1791a91e1fd6"
      },
      "execution_count": null,
      "outputs": [
        {
          "output_type": "execute_result",
          "data": {
            "text/html": [
              "<div>\n",
              "<style scoped>\n",
              "    .dataframe tbody tr th:only-of-type {\n",
              "        vertical-align: middle;\n",
              "    }\n",
              "\n",
              "    .dataframe tbody tr th {\n",
              "        vertical-align: top;\n",
              "    }\n",
              "\n",
              "    .dataframe thead th {\n",
              "        text-align: right;\n",
              "    }\n",
              "</style>\n",
              "<table border=\"1\" class=\"dataframe\">\n",
              "  <thead>\n",
              "    <tr style=\"text-align: right;\">\n",
              "      <th></th>\n",
              "      <th>outgoing_mins_per_month</th>\n",
              "      <th>outgoing_sms_per_month</th>\n",
              "      <th>monthly_mb</th>\n",
              "      <th>use_id</th>\n",
              "    </tr>\n",
              "  </thead>\n",
              "  <tbody>\n",
              "    <tr>\n",
              "      <th>0</th>\n",
              "      <td>21.97</td>\n",
              "      <td>4.82</td>\n",
              "      <td>1557.33</td>\n",
              "      <td>22787</td>\n",
              "    </tr>\n",
              "    <tr>\n",
              "      <th>1</th>\n",
              "      <td>1710.08</td>\n",
              "      <td>136.88</td>\n",
              "      <td>7267.55</td>\n",
              "      <td>22788</td>\n",
              "    </tr>\n",
              "  </tbody>\n",
              "</table>\n",
              "</div>"
            ],
            "text/plain": [
              "   outgoing_mins_per_month  outgoing_sms_per_month  monthly_mb  use_id\n",
              "0                    21.97                    4.82     1557.33   22787\n",
              "1                  1710.08                  136.88     7267.55   22788"
            ]
          },
          "metadata": {},
          "execution_count": 29
        }
      ]
    },
    {
      "cell_type": "code",
      "source": [
        "user_device.head(2)"
      ],
      "metadata": {
        "colab": {
          "base_uri": "https://localhost:8080/",
          "height": 112
        },
        "id": "IgRm4ZkbER4K",
        "outputId": "7a491275-5af7-41a0-aefe-ba14ef106b61"
      },
      "execution_count": null,
      "outputs": [
        {
          "output_type": "execute_result",
          "data": {
            "text/html": [
              "<div>\n",
              "<style scoped>\n",
              "    .dataframe tbody tr th:only-of-type {\n",
              "        vertical-align: middle;\n",
              "    }\n",
              "\n",
              "    .dataframe tbody tr th {\n",
              "        vertical-align: top;\n",
              "    }\n",
              "\n",
              "    .dataframe thead th {\n",
              "        text-align: right;\n",
              "    }\n",
              "</style>\n",
              "<table border=\"1\" class=\"dataframe\">\n",
              "  <thead>\n",
              "    <tr style=\"text-align: right;\">\n",
              "      <th></th>\n",
              "      <th>use_id</th>\n",
              "      <th>user_id</th>\n",
              "      <th>platform</th>\n",
              "      <th>platform_version</th>\n",
              "      <th>device</th>\n",
              "      <th>use_type_id</th>\n",
              "    </tr>\n",
              "  </thead>\n",
              "  <tbody>\n",
              "    <tr>\n",
              "      <th>0</th>\n",
              "      <td>22782</td>\n",
              "      <td>26980</td>\n",
              "      <td>ios</td>\n",
              "      <td>10.2</td>\n",
              "      <td>iPhone7,2</td>\n",
              "      <td>2</td>\n",
              "    </tr>\n",
              "    <tr>\n",
              "      <th>1</th>\n",
              "      <td>22783</td>\n",
              "      <td>29628</td>\n",
              "      <td>android</td>\n",
              "      <td>6.0</td>\n",
              "      <td>Nexus 5</td>\n",
              "      <td>3</td>\n",
              "    </tr>\n",
              "  </tbody>\n",
              "</table>\n",
              "</div>"
            ],
            "text/plain": [
              "   use_id  user_id platform  platform_version     device  use_type_id\n",
              "0   22782    26980      ios              10.2  iPhone7,2            2\n",
              "1   22783    29628  android               6.0    Nexus 5            3"
            ]
          },
          "metadata": {},
          "execution_count": 30
        }
      ]
    },
    {
      "cell_type": "markdown",
      "source": [
        "## inner join\n",
        "merge 함수를 통해서 join을 해볼 수 있습니다.\n",
        "\n",
        "merge의 기본 동작은 inner join 입니다.\n",
        "inner join은 기본적으로 자료의 크기가 훨씬 줄어들게 됩니다.\n",
        "\n",
        "user_usage: 240개\n",
        "user_device: 272개\n",
        "두 자료를 하나로 합쳤을 경우 240개를 넘어가지는 않습니다.\n",
        "양쪽자료 모두에 존재하지 않는 자료가 있다면?\n"
      ],
      "metadata": {
        "id": "yoLLKDLjEYXb"
      }
    },
    {
      "cell_type": "code",
      "source": [
        "display( len(user_usage) )\n",
        "display( len(user_device) )"
      ],
      "metadata": {
        "colab": {
          "base_uri": "https://localhost:8080/",
          "height": 54
        },
        "id": "iyiSz5i5EaGC",
        "outputId": "81ecbd57-36ba-4a77-e8e1-927349e5bb66"
      },
      "execution_count": null,
      "outputs": [
        {
          "output_type": "display_data",
          "data": {
            "text/plain": [
              "240"
            ]
          },
          "metadata": {}
        },
        {
          "output_type": "display_data",
          "data": {
            "text/plain": [
              "272"
            ]
          },
          "metadata": {}
        }
      ]
    },
    {
      "cell_type": "code",
      "source": [
        "pd.merge(left=user_usage, right=user_device, on='use_id')"
      ],
      "metadata": {
        "colab": {
          "base_uri": "https://localhost:8080/",
          "height": 600
        },
        "id": "3dqsx0DTEfPq",
        "outputId": "3a31a4f4-138d-48fd-b2c6-94ef34d205a6"
      },
      "execution_count": null,
      "outputs": [
        {
          "output_type": "execute_result",
          "data": {
            "text/html": [
              "<div>\n",
              "<style scoped>\n",
              "    .dataframe tbody tr th:only-of-type {\n",
              "        vertical-align: middle;\n",
              "    }\n",
              "\n",
              "    .dataframe tbody tr th {\n",
              "        vertical-align: top;\n",
              "    }\n",
              "\n",
              "    .dataframe thead th {\n",
              "        text-align: right;\n",
              "    }\n",
              "</style>\n",
              "<table border=\"1\" class=\"dataframe\">\n",
              "  <thead>\n",
              "    <tr style=\"text-align: right;\">\n",
              "      <th></th>\n",
              "      <th>outgoing_mins_per_month</th>\n",
              "      <th>outgoing_sms_per_month</th>\n",
              "      <th>monthly_mb</th>\n",
              "      <th>use_id</th>\n",
              "      <th>user_id</th>\n",
              "      <th>platform</th>\n",
              "      <th>platform_version</th>\n",
              "      <th>device</th>\n",
              "      <th>use_type_id</th>\n",
              "    </tr>\n",
              "  </thead>\n",
              "  <tbody>\n",
              "    <tr>\n",
              "      <th>0</th>\n",
              "      <td>21.97</td>\n",
              "      <td>4.82</td>\n",
              "      <td>1557.33</td>\n",
              "      <td>22787</td>\n",
              "      <td>12921</td>\n",
              "      <td>android</td>\n",
              "      <td>4.3</td>\n",
              "      <td>GT-I9505</td>\n",
              "      <td>1</td>\n",
              "    </tr>\n",
              "    <tr>\n",
              "      <th>1</th>\n",
              "      <td>1710.08</td>\n",
              "      <td>136.88</td>\n",
              "      <td>7267.55</td>\n",
              "      <td>22788</td>\n",
              "      <td>28714</td>\n",
              "      <td>android</td>\n",
              "      <td>6.0</td>\n",
              "      <td>SM-G930F</td>\n",
              "      <td>1</td>\n",
              "    </tr>\n",
              "    <tr>\n",
              "      <th>2</th>\n",
              "      <td>1710.08</td>\n",
              "      <td>136.88</td>\n",
              "      <td>7267.55</td>\n",
              "      <td>22789</td>\n",
              "      <td>28714</td>\n",
              "      <td>android</td>\n",
              "      <td>6.0</td>\n",
              "      <td>SM-G930F</td>\n",
              "      <td>1</td>\n",
              "    </tr>\n",
              "    <tr>\n",
              "      <th>3</th>\n",
              "      <td>94.46</td>\n",
              "      <td>35.17</td>\n",
              "      <td>519.12</td>\n",
              "      <td>22790</td>\n",
              "      <td>29592</td>\n",
              "      <td>android</td>\n",
              "      <td>5.1</td>\n",
              "      <td>D2303</td>\n",
              "      <td>1</td>\n",
              "    </tr>\n",
              "    <tr>\n",
              "      <th>4</th>\n",
              "      <td>71.59</td>\n",
              "      <td>79.26</td>\n",
              "      <td>1557.33</td>\n",
              "      <td>22792</td>\n",
              "      <td>28217</td>\n",
              "      <td>android</td>\n",
              "      <td>5.1</td>\n",
              "      <td>SM-G361F</td>\n",
              "      <td>1</td>\n",
              "    </tr>\n",
              "    <tr>\n",
              "      <th>...</th>\n",
              "      <td>...</td>\n",
              "      <td>...</td>\n",
              "      <td>...</td>\n",
              "      <td>...</td>\n",
              "      <td>...</td>\n",
              "      <td>...</td>\n",
              "      <td>...</td>\n",
              "      <td>...</td>\n",
              "      <td>...</td>\n",
              "    </tr>\n",
              "    <tr>\n",
              "      <th>154</th>\n",
              "      <td>198.59</td>\n",
              "      <td>90.49</td>\n",
              "      <td>5191.12</td>\n",
              "      <td>23043</td>\n",
              "      <td>28953</td>\n",
              "      <td>android</td>\n",
              "      <td>6.0</td>\n",
              "      <td>SM-G900F</td>\n",
              "      <td>1</td>\n",
              "    </tr>\n",
              "    <tr>\n",
              "      <th>155</th>\n",
              "      <td>198.59</td>\n",
              "      <td>90.49</td>\n",
              "      <td>3114.67</td>\n",
              "      <td>23044</td>\n",
              "      <td>28953</td>\n",
              "      <td>android</td>\n",
              "      <td>6.0</td>\n",
              "      <td>SM-G900F</td>\n",
              "      <td>1</td>\n",
              "    </tr>\n",
              "    <tr>\n",
              "      <th>156</th>\n",
              "      <td>106.65</td>\n",
              "      <td>82.13</td>\n",
              "      <td>5191.12</td>\n",
              "      <td>23046</td>\n",
              "      <td>29454</td>\n",
              "      <td>android</td>\n",
              "      <td>6.0</td>\n",
              "      <td>Moto G (4)</td>\n",
              "      <td>1</td>\n",
              "    </tr>\n",
              "    <tr>\n",
              "      <th>157</th>\n",
              "      <td>344.53</td>\n",
              "      <td>20.53</td>\n",
              "      <td>519.12</td>\n",
              "      <td>23049</td>\n",
              "      <td>29725</td>\n",
              "      <td>android</td>\n",
              "      <td>6.0</td>\n",
              "      <td>SM-G900F</td>\n",
              "      <td>1</td>\n",
              "    </tr>\n",
              "    <tr>\n",
              "      <th>158</th>\n",
              "      <td>42.75</td>\n",
              "      <td>46.83</td>\n",
              "      <td>5191.12</td>\n",
              "      <td>23053</td>\n",
              "      <td>20257</td>\n",
              "      <td>android</td>\n",
              "      <td>5.1</td>\n",
              "      <td>Vodafone Smart ultra 6</td>\n",
              "      <td>1</td>\n",
              "    </tr>\n",
              "  </tbody>\n",
              "</table>\n",
              "<p>159 rows × 9 columns</p>\n",
              "</div>"
            ],
            "text/plain": [
              "     outgoing_mins_per_month  ...  use_type_id\n",
              "0                      21.97  ...            1\n",
              "1                    1710.08  ...            1\n",
              "2                    1710.08  ...            1\n",
              "3                      94.46  ...            1\n",
              "4                      71.59  ...            1\n",
              "..                       ...  ...          ...\n",
              "154                   198.59  ...            1\n",
              "155                   198.59  ...            1\n",
              "156                   106.65  ...            1\n",
              "157                   344.53  ...            1\n",
              "158                    42.75  ...            1\n",
              "\n",
              "[159 rows x 9 columns]"
            ]
          },
          "metadata": {},
          "execution_count": 32
        }
      ]
    },
    {
      "cell_type": "markdown",
      "source": [
        "### left join"
      ],
      "metadata": {
        "id": "0W910R_wE5Wi"
      }
    },
    {
      "cell_type": "code",
      "source": [
        "pd.merge(left=user_usage, right=user_device, on='use_id' , how='left' )"
      ],
      "metadata": {
        "colab": {
          "base_uri": "https://localhost:8080/",
          "height": 513
        },
        "id": "iqG0pQnjE4va",
        "outputId": "8e594694-88bd-45dd-f10c-ecc405024571"
      },
      "execution_count": null,
      "outputs": [
        {
          "output_type": "execute_result",
          "data": {
            "text/html": [
              "<div>\n",
              "<style scoped>\n",
              "    .dataframe tbody tr th:only-of-type {\n",
              "        vertical-align: middle;\n",
              "    }\n",
              "\n",
              "    .dataframe tbody tr th {\n",
              "        vertical-align: top;\n",
              "    }\n",
              "\n",
              "    .dataframe thead th {\n",
              "        text-align: right;\n",
              "    }\n",
              "</style>\n",
              "<table border=\"1\" class=\"dataframe\">\n",
              "  <thead>\n",
              "    <tr style=\"text-align: right;\">\n",
              "      <th></th>\n",
              "      <th>outgoing_mins_per_month</th>\n",
              "      <th>outgoing_sms_per_month</th>\n",
              "      <th>monthly_mb</th>\n",
              "      <th>use_id</th>\n",
              "      <th>user_id</th>\n",
              "      <th>platform</th>\n",
              "      <th>platform_version</th>\n",
              "      <th>device</th>\n",
              "      <th>use_type_id</th>\n",
              "    </tr>\n",
              "  </thead>\n",
              "  <tbody>\n",
              "    <tr>\n",
              "      <th>0</th>\n",
              "      <td>21.97</td>\n",
              "      <td>4.82</td>\n",
              "      <td>1557.33</td>\n",
              "      <td>22787</td>\n",
              "      <td>12921.0</td>\n",
              "      <td>android</td>\n",
              "      <td>4.3</td>\n",
              "      <td>GT-I9505</td>\n",
              "      <td>1.0</td>\n",
              "    </tr>\n",
              "    <tr>\n",
              "      <th>1</th>\n",
              "      <td>1710.08</td>\n",
              "      <td>136.88</td>\n",
              "      <td>7267.55</td>\n",
              "      <td>22788</td>\n",
              "      <td>28714.0</td>\n",
              "      <td>android</td>\n",
              "      <td>6.0</td>\n",
              "      <td>SM-G930F</td>\n",
              "      <td>1.0</td>\n",
              "    </tr>\n",
              "    <tr>\n",
              "      <th>2</th>\n",
              "      <td>1710.08</td>\n",
              "      <td>136.88</td>\n",
              "      <td>7267.55</td>\n",
              "      <td>22789</td>\n",
              "      <td>28714.0</td>\n",
              "      <td>android</td>\n",
              "      <td>6.0</td>\n",
              "      <td>SM-G930F</td>\n",
              "      <td>1.0</td>\n",
              "    </tr>\n",
              "    <tr>\n",
              "      <th>3</th>\n",
              "      <td>94.46</td>\n",
              "      <td>35.17</td>\n",
              "      <td>519.12</td>\n",
              "      <td>22790</td>\n",
              "      <td>29592.0</td>\n",
              "      <td>android</td>\n",
              "      <td>5.1</td>\n",
              "      <td>D2303</td>\n",
              "      <td>1.0</td>\n",
              "    </tr>\n",
              "    <tr>\n",
              "      <th>4</th>\n",
              "      <td>71.59</td>\n",
              "      <td>79.26</td>\n",
              "      <td>1557.33</td>\n",
              "      <td>22792</td>\n",
              "      <td>28217.0</td>\n",
              "      <td>android</td>\n",
              "      <td>5.1</td>\n",
              "      <td>SM-G361F</td>\n",
              "      <td>1.0</td>\n",
              "    </tr>\n",
              "    <tr>\n",
              "      <th>...</th>\n",
              "      <td>...</td>\n",
              "      <td>...</td>\n",
              "      <td>...</td>\n",
              "      <td>...</td>\n",
              "      <td>...</td>\n",
              "      <td>...</td>\n",
              "      <td>...</td>\n",
              "      <td>...</td>\n",
              "      <td>...</td>\n",
              "    </tr>\n",
              "    <tr>\n",
              "      <th>235</th>\n",
              "      <td>260.66</td>\n",
              "      <td>68.44</td>\n",
              "      <td>896.96</td>\n",
              "      <td>25008</td>\n",
              "      <td>NaN</td>\n",
              "      <td>NaN</td>\n",
              "      <td>NaN</td>\n",
              "      <td>NaN</td>\n",
              "      <td>NaN</td>\n",
              "    </tr>\n",
              "    <tr>\n",
              "      <th>236</th>\n",
              "      <td>97.12</td>\n",
              "      <td>36.50</td>\n",
              "      <td>2815.00</td>\n",
              "      <td>25040</td>\n",
              "      <td>NaN</td>\n",
              "      <td>NaN</td>\n",
              "      <td>NaN</td>\n",
              "      <td>NaN</td>\n",
              "      <td>NaN</td>\n",
              "    </tr>\n",
              "    <tr>\n",
              "      <th>237</th>\n",
              "      <td>355.93</td>\n",
              "      <td>12.37</td>\n",
              "      <td>6828.09</td>\n",
              "      <td>25046</td>\n",
              "      <td>NaN</td>\n",
              "      <td>NaN</td>\n",
              "      <td>NaN</td>\n",
              "      <td>NaN</td>\n",
              "      <td>NaN</td>\n",
              "    </tr>\n",
              "    <tr>\n",
              "      <th>238</th>\n",
              "      <td>632.06</td>\n",
              "      <td>120.46</td>\n",
              "      <td>1453.16</td>\n",
              "      <td>25058</td>\n",
              "      <td>NaN</td>\n",
              "      <td>NaN</td>\n",
              "      <td>NaN</td>\n",
              "      <td>NaN</td>\n",
              "      <td>NaN</td>\n",
              "    </tr>\n",
              "    <tr>\n",
              "      <th>239</th>\n",
              "      <td>488.70</td>\n",
              "      <td>906.92</td>\n",
              "      <td>3089.85</td>\n",
              "      <td>25220</td>\n",
              "      <td>NaN</td>\n",
              "      <td>NaN</td>\n",
              "      <td>NaN</td>\n",
              "      <td>NaN</td>\n",
              "      <td>NaN</td>\n",
              "    </tr>\n",
              "  </tbody>\n",
              "</table>\n",
              "<p>240 rows × 9 columns</p>\n",
              "</div>"
            ],
            "text/plain": [
              "     outgoing_mins_per_month  outgoing_sms_per_month  ...    device  use_type_id\n",
              "0                      21.97                    4.82  ...  GT-I9505          1.0\n",
              "1                    1710.08                  136.88  ...  SM-G930F          1.0\n",
              "2                    1710.08                  136.88  ...  SM-G930F          1.0\n",
              "3                      94.46                   35.17  ...     D2303          1.0\n",
              "4                      71.59                   79.26  ...  SM-G361F          1.0\n",
              "..                       ...                     ...  ...       ...          ...\n",
              "235                   260.66                   68.44  ...       NaN          NaN\n",
              "236                    97.12                   36.50  ...       NaN          NaN\n",
              "237                   355.93                   12.37  ...       NaN          NaN\n",
              "238                   632.06                  120.46  ...       NaN          NaN\n",
              "239                   488.70                  906.92  ...       NaN          NaN\n",
              "\n",
              "[240 rows x 9 columns]"
            ]
          },
          "metadata": {},
          "execution_count": 33
        }
      ]
    },
    {
      "cell_type": "markdown",
      "source": [
        "### full outer join"
      ],
      "metadata": {
        "id": "L24999OeFliz"
      }
    },
    {
      "cell_type": "code",
      "source": [
        "pd.merge(left=user_usage, right=user_device, on='use_id' , how='outer' )"
      ],
      "metadata": {
        "colab": {
          "base_uri": "https://localhost:8080/",
          "height": 513
        },
        "id": "Tbe3_Z06FsHq",
        "outputId": "1f56c12c-d7af-4c0d-dc3b-058002ad4d53"
      },
      "execution_count": null,
      "outputs": [
        {
          "output_type": "execute_result",
          "data": {
            "text/html": [
              "<div>\n",
              "<style scoped>\n",
              "    .dataframe tbody tr th:only-of-type {\n",
              "        vertical-align: middle;\n",
              "    }\n",
              "\n",
              "    .dataframe tbody tr th {\n",
              "        vertical-align: top;\n",
              "    }\n",
              "\n",
              "    .dataframe thead th {\n",
              "        text-align: right;\n",
              "    }\n",
              "</style>\n",
              "<table border=\"1\" class=\"dataframe\">\n",
              "  <thead>\n",
              "    <tr style=\"text-align: right;\">\n",
              "      <th></th>\n",
              "      <th>outgoing_mins_per_month</th>\n",
              "      <th>outgoing_sms_per_month</th>\n",
              "      <th>monthly_mb</th>\n",
              "      <th>use_id</th>\n",
              "      <th>user_id</th>\n",
              "      <th>platform</th>\n",
              "      <th>platform_version</th>\n",
              "      <th>device</th>\n",
              "      <th>use_type_id</th>\n",
              "    </tr>\n",
              "  </thead>\n",
              "  <tbody>\n",
              "    <tr>\n",
              "      <th>0</th>\n",
              "      <td>21.97</td>\n",
              "      <td>4.82</td>\n",
              "      <td>1557.33</td>\n",
              "      <td>22787</td>\n",
              "      <td>12921.0</td>\n",
              "      <td>android</td>\n",
              "      <td>4.3</td>\n",
              "      <td>GT-I9505</td>\n",
              "      <td>1.0</td>\n",
              "    </tr>\n",
              "    <tr>\n",
              "      <th>1</th>\n",
              "      <td>1710.08</td>\n",
              "      <td>136.88</td>\n",
              "      <td>7267.55</td>\n",
              "      <td>22788</td>\n",
              "      <td>28714.0</td>\n",
              "      <td>android</td>\n",
              "      <td>6.0</td>\n",
              "      <td>SM-G930F</td>\n",
              "      <td>1.0</td>\n",
              "    </tr>\n",
              "    <tr>\n",
              "      <th>2</th>\n",
              "      <td>1710.08</td>\n",
              "      <td>136.88</td>\n",
              "      <td>7267.55</td>\n",
              "      <td>22789</td>\n",
              "      <td>28714.0</td>\n",
              "      <td>android</td>\n",
              "      <td>6.0</td>\n",
              "      <td>SM-G930F</td>\n",
              "      <td>1.0</td>\n",
              "    </tr>\n",
              "    <tr>\n",
              "      <th>3</th>\n",
              "      <td>94.46</td>\n",
              "      <td>35.17</td>\n",
              "      <td>519.12</td>\n",
              "      <td>22790</td>\n",
              "      <td>29592.0</td>\n",
              "      <td>android</td>\n",
              "      <td>5.1</td>\n",
              "      <td>D2303</td>\n",
              "      <td>1.0</td>\n",
              "    </tr>\n",
              "    <tr>\n",
              "      <th>4</th>\n",
              "      <td>71.59</td>\n",
              "      <td>79.26</td>\n",
              "      <td>1557.33</td>\n",
              "      <td>22792</td>\n",
              "      <td>28217.0</td>\n",
              "      <td>android</td>\n",
              "      <td>5.1</td>\n",
              "      <td>SM-G361F</td>\n",
              "      <td>1.0</td>\n",
              "    </tr>\n",
              "    <tr>\n",
              "      <th>...</th>\n",
              "      <td>...</td>\n",
              "      <td>...</td>\n",
              "      <td>...</td>\n",
              "      <td>...</td>\n",
              "      <td>...</td>\n",
              "      <td>...</td>\n",
              "      <td>...</td>\n",
              "      <td>...</td>\n",
              "      <td>...</td>\n",
              "    </tr>\n",
              "    <tr>\n",
              "      <th>348</th>\n",
              "      <td>NaN</td>\n",
              "      <td>NaN</td>\n",
              "      <td>NaN</td>\n",
              "      <td>23047</td>\n",
              "      <td>29720.0</td>\n",
              "      <td>ios</td>\n",
              "      <td>10.2</td>\n",
              "      <td>iPhone7,1</td>\n",
              "      <td>2.0</td>\n",
              "    </tr>\n",
              "    <tr>\n",
              "      <th>349</th>\n",
              "      <td>NaN</td>\n",
              "      <td>NaN</td>\n",
              "      <td>NaN</td>\n",
              "      <td>23048</td>\n",
              "      <td>29724.0</td>\n",
              "      <td>android</td>\n",
              "      <td>6.0</td>\n",
              "      <td>ONEPLUS A3003</td>\n",
              "      <td>3.0</td>\n",
              "    </tr>\n",
              "    <tr>\n",
              "      <th>350</th>\n",
              "      <td>NaN</td>\n",
              "      <td>NaN</td>\n",
              "      <td>NaN</td>\n",
              "      <td>23050</td>\n",
              "      <td>29726.0</td>\n",
              "      <td>ios</td>\n",
              "      <td>10.2</td>\n",
              "      <td>iPhone7,2</td>\n",
              "      <td>3.0</td>\n",
              "    </tr>\n",
              "    <tr>\n",
              "      <th>351</th>\n",
              "      <td>NaN</td>\n",
              "      <td>NaN</td>\n",
              "      <td>NaN</td>\n",
              "      <td>23051</td>\n",
              "      <td>29726.0</td>\n",
              "      <td>ios</td>\n",
              "      <td>10.2</td>\n",
              "      <td>iPhone7,2</td>\n",
              "      <td>3.0</td>\n",
              "    </tr>\n",
              "    <tr>\n",
              "      <th>352</th>\n",
              "      <td>NaN</td>\n",
              "      <td>NaN</td>\n",
              "      <td>NaN</td>\n",
              "      <td>23052</td>\n",
              "      <td>29727.0</td>\n",
              "      <td>ios</td>\n",
              "      <td>10.1</td>\n",
              "      <td>iPhone8,4</td>\n",
              "      <td>3.0</td>\n",
              "    </tr>\n",
              "  </tbody>\n",
              "</table>\n",
              "<p>353 rows × 9 columns</p>\n",
              "</div>"
            ],
            "text/plain": [
              "     outgoing_mins_per_month  ...  use_type_id\n",
              "0                      21.97  ...          1.0\n",
              "1                    1710.08  ...          1.0\n",
              "2                    1710.08  ...          1.0\n",
              "3                      94.46  ...          1.0\n",
              "4                      71.59  ...          1.0\n",
              "..                       ...  ...          ...\n",
              "348                      NaN  ...          2.0\n",
              "349                      NaN  ...          3.0\n",
              "350                      NaN  ...          3.0\n",
              "351                      NaN  ...          3.0\n",
              "352                      NaN  ...          3.0\n",
              "\n",
              "[353 rows x 9 columns]"
            ]
          },
          "metadata": {},
          "execution_count": 35
        }
      ]
    },
    {
      "cell_type": "markdown",
      "source": [
        "# matplotlib (시각화)\n",
        " - 파이썬의 대표적인 시각화 라이브러리\n",
        "  - 통계는 수치를 통해서 자료를 이해\n",
        "  - 시각화는 자료에 대한 직관적인 이해\n",
        "\n",
        "- 시각화 하는 방법은 정해져 있습니다\n",
        " - 자료(변수)의 형태에 따라서 그릴 수 있는 그래프는 이미 결정\n",
        "  - 1변수, 다변수(2변수 이상) \n",
        "  - 전통적으로 3변수 이상은 잘 다루지 않으나 빅 데이터는 많은 변수를 다루기 때문에 3변수도 사용합니다. "
      ],
      "metadata": {
        "id": "6tkZHv8pJSAD"
      }
    },
    {
      "cell_type": "code",
      "source": [
        "import matplotlib.pyplot as plt\n",
        "import seaborn as sns"
      ],
      "metadata": {
        "id": "13v0eW8_JZN6"
      },
      "execution_count": null,
      "outputs": []
    },
    {
      "cell_type": "code",
      "source": [
        "health_data = pd. read_csv('/content/drive/MyDrive/멀티캠퍼스/데이터 전용/health_2016.csv')"
      ],
      "metadata": {
        "id": "VvCNIgHXJ2Y_"
      },
      "execution_count": null,
      "outputs": []
    },
    {
      "cell_type": "code",
      "source": [
        "health_data"
      ],
      "metadata": {
        "colab": {
          "base_uri": "https://localhost:8080/",
          "height": 583
        },
        "id": "QyvzNKNXKhmy",
        "outputId": "91b3dc85-3f91-4aa9-8e9d-4d2aacd40e23"
      },
      "execution_count": null,
      "outputs": [
        {
          "output_type": "execute_result",
          "data": {
            "text/html": [
              "<div>\n",
              "<style scoped>\n",
              "    .dataframe tbody tr th:only-of-type {\n",
              "        vertical-align: middle;\n",
              "    }\n",
              "\n",
              "    .dataframe tbody tr th {\n",
              "        vertical-align: top;\n",
              "    }\n",
              "\n",
              "    .dataframe thead th {\n",
              "        text-align: right;\n",
              "    }\n",
              "</style>\n",
              "<table border=\"1\" class=\"dataframe\">\n",
              "  <thead>\n",
              "    <tr style=\"text-align: right;\">\n",
              "      <th></th>\n",
              "      <th>기준년도</th>\n",
              "      <th>가입자일련번호</th>\n",
              "      <th>성별코드</th>\n",
              "      <th>연령대코드(5세단위)</th>\n",
              "      <th>시도코드</th>\n",
              "      <th>신장(5Cm단위)</th>\n",
              "      <th>체중(5Kg단위)</th>\n",
              "      <th>허리둘레</th>\n",
              "      <th>시력(좌)</th>\n",
              "      <th>시력(우)</th>\n",
              "      <th>청력(좌)</th>\n",
              "      <th>청력(우)</th>\n",
              "      <th>수축기혈압</th>\n",
              "      <th>이완기혈압</th>\n",
              "      <th>식전혈당(공복혈당)</th>\n",
              "      <th>총콜레스테롤</th>\n",
              "      <th>트리글리세라이드</th>\n",
              "      <th>HDL콜레스테롤</th>\n",
              "      <th>LDL콜레스테롤</th>\n",
              "      <th>혈색소</th>\n",
              "      <th>요단백</th>\n",
              "      <th>혈청크레아티닌</th>\n",
              "      <th>(혈청지오티)AST</th>\n",
              "      <th>(혈청지오티)ALT</th>\n",
              "      <th>감마지티피</th>\n",
              "      <th>흡연상태</th>\n",
              "      <th>음주여부</th>\n",
              "      <th>구강검진 수검여부</th>\n",
              "      <th>치아우식증유무</th>\n",
              "      <th>결손치유무</th>\n",
              "      <th>치아마모증유무</th>\n",
              "      <th>제3대구치(사랑니)이상</th>\n",
              "      <th>치석</th>\n",
              "      <th>데이터공개일자</th>\n",
              "    </tr>\n",
              "  </thead>\n",
              "  <tbody>\n",
              "    <tr>\n",
              "      <th>0</th>\n",
              "      <td>2016</td>\n",
              "      <td>465969</td>\n",
              "      <td>1</td>\n",
              "      <td>8</td>\n",
              "      <td>41</td>\n",
              "      <td>170.0</td>\n",
              "      <td>70.0</td>\n",
              "      <td>74.0</td>\n",
              "      <td>0.7</td>\n",
              "      <td>0.7</td>\n",
              "      <td>1.0</td>\n",
              "      <td>1.0</td>\n",
              "      <td>118.0</td>\n",
              "      <td>70.0</td>\n",
              "      <td>85.0</td>\n",
              "      <td>194.0</td>\n",
              "      <td>97.0</td>\n",
              "      <td>54.0</td>\n",
              "      <td>120.0</td>\n",
              "      <td>14.6</td>\n",
              "      <td>2.0</td>\n",
              "      <td>1.1</td>\n",
              "      <td>31.0</td>\n",
              "      <td>36.0</td>\n",
              "      <td>96.0</td>\n",
              "      <td>3.0</td>\n",
              "      <td>NaN</td>\n",
              "      <td>1</td>\n",
              "      <td>NaN</td>\n",
              "      <td>NaN</td>\n",
              "      <td>NaN</td>\n",
              "      <td>NaN</td>\n",
              "      <td>2.0</td>\n",
              "      <td>20171219</td>\n",
              "    </tr>\n",
              "    <tr>\n",
              "      <th>1</th>\n",
              "      <td>2016</td>\n",
              "      <td>565871</td>\n",
              "      <td>1</td>\n",
              "      <td>10</td>\n",
              "      <td>41</td>\n",
              "      <td>160.0</td>\n",
              "      <td>60.0</td>\n",
              "      <td>81.0</td>\n",
              "      <td>1.2</td>\n",
              "      <td>1.0</td>\n",
              "      <td>1.0</td>\n",
              "      <td>1.0</td>\n",
              "      <td>134.0</td>\n",
              "      <td>84.0</td>\n",
              "      <td>105.0</td>\n",
              "      <td>143.0</td>\n",
              "      <td>84.0</td>\n",
              "      <td>33.0</td>\n",
              "      <td>93.0</td>\n",
              "      <td>16.2</td>\n",
              "      <td>1.0</td>\n",
              "      <td>1.0</td>\n",
              "      <td>20.0</td>\n",
              "      <td>23.0</td>\n",
              "      <td>14.0</td>\n",
              "      <td>1.0</td>\n",
              "      <td>NaN</td>\n",
              "      <td>0</td>\n",
              "      <td>NaN</td>\n",
              "      <td>NaN</td>\n",
              "      <td>NaN</td>\n",
              "      <td>NaN</td>\n",
              "      <td>NaN</td>\n",
              "      <td>20171219</td>\n",
              "    </tr>\n",
              "    <tr>\n",
              "      <th>2</th>\n",
              "      <td>2016</td>\n",
              "      <td>115718</td>\n",
              "      <td>2</td>\n",
              "      <td>11</td>\n",
              "      <td>11</td>\n",
              "      <td>160.0</td>\n",
              "      <td>55.0</td>\n",
              "      <td>71.0</td>\n",
              "      <td>1.0</td>\n",
              "      <td>1.0</td>\n",
              "      <td>1.0</td>\n",
              "      <td>1.0</td>\n",
              "      <td>129.0</td>\n",
              "      <td>85.0</td>\n",
              "      <td>86.0</td>\n",
              "      <td>203.0</td>\n",
              "      <td>52.0</td>\n",
              "      <td>51.0</td>\n",
              "      <td>141.0</td>\n",
              "      <td>14.0</td>\n",
              "      <td>1.0</td>\n",
              "      <td>0.8</td>\n",
              "      <td>17.0</td>\n",
              "      <td>14.0</td>\n",
              "      <td>20.0</td>\n",
              "      <td>1.0</td>\n",
              "      <td>NaN</td>\n",
              "      <td>1</td>\n",
              "      <td>NaN</td>\n",
              "      <td>NaN</td>\n",
              "      <td>NaN</td>\n",
              "      <td>NaN</td>\n",
              "      <td>0.0</td>\n",
              "      <td>20171219</td>\n",
              "    </tr>\n",
              "    <tr>\n",
              "      <th>3</th>\n",
              "      <td>2016</td>\n",
              "      <td>767524</td>\n",
              "      <td>1</td>\n",
              "      <td>6</td>\n",
              "      <td>28</td>\n",
              "      <td>180.0</td>\n",
              "      <td>70.0</td>\n",
              "      <td>79.0</td>\n",
              "      <td>1.0</td>\n",
              "      <td>0.9</td>\n",
              "      <td>1.0</td>\n",
              "      <td>1.0</td>\n",
              "      <td>137.0</td>\n",
              "      <td>78.0</td>\n",
              "      <td>92.0</td>\n",
              "      <td>154.0</td>\n",
              "      <td>53.0</td>\n",
              "      <td>55.0</td>\n",
              "      <td>94.0</td>\n",
              "      <td>14.6</td>\n",
              "      <td>1.0</td>\n",
              "      <td>1.0</td>\n",
              "      <td>21.0</td>\n",
              "      <td>23.0</td>\n",
              "      <td>16.0</td>\n",
              "      <td>1.0</td>\n",
              "      <td>NaN</td>\n",
              "      <td>0</td>\n",
              "      <td>NaN</td>\n",
              "      <td>NaN</td>\n",
              "      <td>NaN</td>\n",
              "      <td>NaN</td>\n",
              "      <td>NaN</td>\n",
              "      <td>20171219</td>\n",
              "    </tr>\n",
              "    <tr>\n",
              "      <th>4</th>\n",
              "      <td>2016</td>\n",
              "      <td>482178</td>\n",
              "      <td>2</td>\n",
              "      <td>9</td>\n",
              "      <td>11</td>\n",
              "      <td>160.0</td>\n",
              "      <td>60.0</td>\n",
              "      <td>85.0</td>\n",
              "      <td>0.8</td>\n",
              "      <td>1.2</td>\n",
              "      <td>1.0</td>\n",
              "      <td>1.0</td>\n",
              "      <td>92.0</td>\n",
              "      <td>60.0</td>\n",
              "      <td>90.0</td>\n",
              "      <td>239.0</td>\n",
              "      <td>148.0</td>\n",
              "      <td>46.0</td>\n",
              "      <td>163.0</td>\n",
              "      <td>10.3</td>\n",
              "      <td>1.0</td>\n",
              "      <td>0.9</td>\n",
              "      <td>17.0</td>\n",
              "      <td>12.0</td>\n",
              "      <td>13.0</td>\n",
              "      <td>1.0</td>\n",
              "      <td>NaN</td>\n",
              "      <td>1</td>\n",
              "      <td>NaN</td>\n",
              "      <td>NaN</td>\n",
              "      <td>NaN</td>\n",
              "      <td>NaN</td>\n",
              "      <td>0.0</td>\n",
              "      <td>20171219</td>\n",
              "    </tr>\n",
              "    <tr>\n",
              "      <th>...</th>\n",
              "      <td>...</td>\n",
              "      <td>...</td>\n",
              "      <td>...</td>\n",
              "      <td>...</td>\n",
              "      <td>...</td>\n",
              "      <td>...</td>\n",
              "      <td>...</td>\n",
              "      <td>...</td>\n",
              "      <td>...</td>\n",
              "      <td>...</td>\n",
              "      <td>...</td>\n",
              "      <td>...</td>\n",
              "      <td>...</td>\n",
              "      <td>...</td>\n",
              "      <td>...</td>\n",
              "      <td>...</td>\n",
              "      <td>...</td>\n",
              "      <td>...</td>\n",
              "      <td>...</td>\n",
              "      <td>...</td>\n",
              "      <td>...</td>\n",
              "      <td>...</td>\n",
              "      <td>...</td>\n",
              "      <td>...</td>\n",
              "      <td>...</td>\n",
              "      <td>...</td>\n",
              "      <td>...</td>\n",
              "      <td>...</td>\n",
              "      <td>...</td>\n",
              "      <td>...</td>\n",
              "      <td>...</td>\n",
              "      <td>...</td>\n",
              "      <td>...</td>\n",
              "      <td>...</td>\n",
              "    </tr>\n",
              "    <tr>\n",
              "      <th>995</th>\n",
              "      <td>2016</td>\n",
              "      <td>206725</td>\n",
              "      <td>2</td>\n",
              "      <td>12</td>\n",
              "      <td>41</td>\n",
              "      <td>150.0</td>\n",
              "      <td>60.0</td>\n",
              "      <td>86.0</td>\n",
              "      <td>0.8</td>\n",
              "      <td>0.8</td>\n",
              "      <td>1.0</td>\n",
              "      <td>1.0</td>\n",
              "      <td>117.0</td>\n",
              "      <td>80.0</td>\n",
              "      <td>121.0</td>\n",
              "      <td>226.0</td>\n",
              "      <td>103.0</td>\n",
              "      <td>73.0</td>\n",
              "      <td>132.0</td>\n",
              "      <td>13.6</td>\n",
              "      <td>1.0</td>\n",
              "      <td>0.9</td>\n",
              "      <td>24.0</td>\n",
              "      <td>36.0</td>\n",
              "      <td>34.0</td>\n",
              "      <td>1.0</td>\n",
              "      <td>NaN</td>\n",
              "      <td>0</td>\n",
              "      <td>NaN</td>\n",
              "      <td>NaN</td>\n",
              "      <td>NaN</td>\n",
              "      <td>NaN</td>\n",
              "      <td>NaN</td>\n",
              "      <td>20171219</td>\n",
              "    </tr>\n",
              "    <tr>\n",
              "      <th>996</th>\n",
              "      <td>2016</td>\n",
              "      <td>339681</td>\n",
              "      <td>2</td>\n",
              "      <td>12</td>\n",
              "      <td>48</td>\n",
              "      <td>155.0</td>\n",
              "      <td>55.0</td>\n",
              "      <td>66.0</td>\n",
              "      <td>0.8</td>\n",
              "      <td>0.7</td>\n",
              "      <td>1.0</td>\n",
              "      <td>1.0</td>\n",
              "      <td>122.0</td>\n",
              "      <td>85.0</td>\n",
              "      <td>103.0</td>\n",
              "      <td>181.0</td>\n",
              "      <td>70.0</td>\n",
              "      <td>81.0</td>\n",
              "      <td>86.0</td>\n",
              "      <td>11.0</td>\n",
              "      <td>1.0</td>\n",
              "      <td>0.7</td>\n",
              "      <td>24.0</td>\n",
              "      <td>20.0</td>\n",
              "      <td>21.0</td>\n",
              "      <td>1.0</td>\n",
              "      <td>NaN</td>\n",
              "      <td>0</td>\n",
              "      <td>NaN</td>\n",
              "      <td>NaN</td>\n",
              "      <td>NaN</td>\n",
              "      <td>NaN</td>\n",
              "      <td>NaN</td>\n",
              "      <td>20171219</td>\n",
              "    </tr>\n",
              "    <tr>\n",
              "      <th>997</th>\n",
              "      <td>2016</td>\n",
              "      <td>653494</td>\n",
              "      <td>2</td>\n",
              "      <td>11</td>\n",
              "      <td>11</td>\n",
              "      <td>155.0</td>\n",
              "      <td>45.0</td>\n",
              "      <td>66.0</td>\n",
              "      <td>1.2</td>\n",
              "      <td>1.0</td>\n",
              "      <td>1.0</td>\n",
              "      <td>1.0</td>\n",
              "      <td>104.0</td>\n",
              "      <td>71.0</td>\n",
              "      <td>80.0</td>\n",
              "      <td>222.0</td>\n",
              "      <td>46.0</td>\n",
              "      <td>61.0</td>\n",
              "      <td>152.0</td>\n",
              "      <td>13.2</td>\n",
              "      <td>1.0</td>\n",
              "      <td>0.8</td>\n",
              "      <td>18.0</td>\n",
              "      <td>14.0</td>\n",
              "      <td>16.0</td>\n",
              "      <td>1.0</td>\n",
              "      <td>NaN</td>\n",
              "      <td>1</td>\n",
              "      <td>NaN</td>\n",
              "      <td>NaN</td>\n",
              "      <td>NaN</td>\n",
              "      <td>NaN</td>\n",
              "      <td>0.0</td>\n",
              "      <td>20171219</td>\n",
              "    </tr>\n",
              "    <tr>\n",
              "      <th>998</th>\n",
              "      <td>2016</td>\n",
              "      <td>190984</td>\n",
              "      <td>2</td>\n",
              "      <td>14</td>\n",
              "      <td>41</td>\n",
              "      <td>145.0</td>\n",
              "      <td>50.0</td>\n",
              "      <td>80.0</td>\n",
              "      <td>0.5</td>\n",
              "      <td>0.5</td>\n",
              "      <td>1.0</td>\n",
              "      <td>1.0</td>\n",
              "      <td>133.0</td>\n",
              "      <td>68.0</td>\n",
              "      <td>91.0</td>\n",
              "      <td>164.0</td>\n",
              "      <td>101.0</td>\n",
              "      <td>52.0</td>\n",
              "      <td>91.0</td>\n",
              "      <td>13.9</td>\n",
              "      <td>1.0</td>\n",
              "      <td>0.8</td>\n",
              "      <td>37.0</td>\n",
              "      <td>25.0</td>\n",
              "      <td>17.0</td>\n",
              "      <td>1.0</td>\n",
              "      <td>NaN</td>\n",
              "      <td>0</td>\n",
              "      <td>NaN</td>\n",
              "      <td>NaN</td>\n",
              "      <td>NaN</td>\n",
              "      <td>NaN</td>\n",
              "      <td>NaN</td>\n",
              "      <td>20171219</td>\n",
              "    </tr>\n",
              "    <tr>\n",
              "      <th>999</th>\n",
              "      <td>2016</td>\n",
              "      <td>548105</td>\n",
              "      <td>1</td>\n",
              "      <td>6</td>\n",
              "      <td>41</td>\n",
              "      <td>170.0</td>\n",
              "      <td>80.0</td>\n",
              "      <td>85.0</td>\n",
              "      <td>1.2</td>\n",
              "      <td>1.5</td>\n",
              "      <td>1.0</td>\n",
              "      <td>1.0</td>\n",
              "      <td>121.0</td>\n",
              "      <td>72.0</td>\n",
              "      <td>94.0</td>\n",
              "      <td>202.0</td>\n",
              "      <td>82.0</td>\n",
              "      <td>42.0</td>\n",
              "      <td>144.0</td>\n",
              "      <td>15.6</td>\n",
              "      <td>1.0</td>\n",
              "      <td>1.0</td>\n",
              "      <td>18.0</td>\n",
              "      <td>19.0</td>\n",
              "      <td>33.0</td>\n",
              "      <td>3.0</td>\n",
              "      <td>NaN</td>\n",
              "      <td>1</td>\n",
              "      <td>NaN</td>\n",
              "      <td>NaN</td>\n",
              "      <td>NaN</td>\n",
              "      <td>NaN</td>\n",
              "      <td>0.0</td>\n",
              "      <td>20171219</td>\n",
              "    </tr>\n",
              "  </tbody>\n",
              "</table>\n",
              "<p>1000 rows × 34 columns</p>\n",
              "</div>"
            ],
            "text/plain": [
              "     기준년도  가입자일련번호  성별코드  연령대코드(5세단위)  ...  치아마모증유무  제3대구치(사랑니)이상   치석   데이터공개일자\n",
              "0    2016   465969     1            8  ...      NaN           NaN  2.0  20171219\n",
              "1    2016   565871     1           10  ...      NaN           NaN  NaN  20171219\n",
              "2    2016   115718     2           11  ...      NaN           NaN  0.0  20171219\n",
              "3    2016   767524     1            6  ...      NaN           NaN  NaN  20171219\n",
              "4    2016   482178     2            9  ...      NaN           NaN  0.0  20171219\n",
              "..    ...      ...   ...          ...  ...      ...           ...  ...       ...\n",
              "995  2016   206725     2           12  ...      NaN           NaN  NaN  20171219\n",
              "996  2016   339681     2           12  ...      NaN           NaN  NaN  20171219\n",
              "997  2016   653494     2           11  ...      NaN           NaN  0.0  20171219\n",
              "998  2016   190984     2           14  ...      NaN           NaN  NaN  20171219\n",
              "999  2016   548105     1            6  ...      NaN           NaN  0.0  20171219\n",
              "\n",
              "[1000 rows x 34 columns]"
            ]
          },
          "metadata": {},
          "execution_count": 42
        }
      ]
    },
    {
      "cell_type": "markdown",
      "source": [
        "## 한글화 \n",
        "- 기본적으로 matplotlib은 한글을 지원하지 않기때문에 폰트를 설치해야 함"
      ],
      "metadata": {
        "id": "0cfNfKo2OEU5"
      }
    },
    {
      "cell_type": "markdown",
      "source": [
        "## 폰트 설치"
      ],
      "metadata": {
        "id": "53LsKAJmR-pN"
      }
    },
    {
      "cell_type": "code",
      "source": [
        "from matplotlib import font_manager, rcParams"
      ],
      "metadata": {
        "id": "GUU90zskODnZ"
      },
      "execution_count": null,
      "outputs": []
    },
    {
      "cell_type": "code",
      "source": [
        "#폰트 설치\n",
        "!apt-get install fonts-nanum*"
      ],
      "metadata": {
        "colab": {
          "base_uri": "https://localhost:8080/"
        },
        "id": "zV1wu5VXRUSR",
        "outputId": "e4db6f00-2962-415a-c348-6c94c0dc7958"
      },
      "execution_count": null,
      "outputs": [
        {
          "output_type": "stream",
          "name": "stdout",
          "text": [
            "Reading package lists... Done\n",
            "Building dependency tree       \n",
            "Reading state information... Done\n",
            "Note, selecting 'fonts-nanum-eco' for glob 'fonts-nanum*'\n",
            "Note, selecting 'fonts-nanum' for glob 'fonts-nanum*'\n",
            "Note, selecting 'fonts-nanum-gothic-light' for glob 'fonts-nanum*'\n",
            "Note, selecting 'fonts-nanum-coding' for glob 'fonts-nanum*'\n",
            "Note, selecting 'fonts-nanum-extra' for glob 'fonts-nanum*'\n",
            "The following NEW packages will be installed:\n",
            "  fonts-nanum fonts-nanum-coding fonts-nanum-eco fonts-nanum-extra\n",
            "0 upgraded, 4 newly installed, 0 to remove and 37 not upgraded.\n",
            "Need to get 37.0 MB of archives.\n",
            "After this operation, 145 MB of additional disk space will be used.\n",
            "Get:1 http://archive.ubuntu.com/ubuntu bionic/universe amd64 fonts-nanum all 20170925-1 [9,604 kB]\n",
            "Get:2 http://archive.ubuntu.com/ubuntu bionic/universe amd64 fonts-nanum-eco all 1.000-6 [14.0 MB]\n",
            "Get:3 http://archive.ubuntu.com/ubuntu bionic/universe amd64 fonts-nanum-extra all 20170925-1 [12.2 MB]\n",
            "Get:4 http://archive.ubuntu.com/ubuntu bionic/universe amd64 fonts-nanum-coding all 2.5-1 [1,083 kB]\n",
            "Fetched 37.0 MB in 2s (20.1 MB/s)\n",
            "Selecting previously unselected package fonts-nanum.\n",
            "(Reading database ... 155222 files and directories currently installed.)\n",
            "Preparing to unpack .../fonts-nanum_20170925-1_all.deb ...\n",
            "Unpacking fonts-nanum (20170925-1) ...\n",
            "Selecting previously unselected package fonts-nanum-eco.\n",
            "Preparing to unpack .../fonts-nanum-eco_1.000-6_all.deb ...\n",
            "Unpacking fonts-nanum-eco (1.000-6) ...\n",
            "Selecting previously unselected package fonts-nanum-extra.\n",
            "Preparing to unpack .../fonts-nanum-extra_20170925-1_all.deb ...\n",
            "Unpacking fonts-nanum-extra (20170925-1) ...\n",
            "Selecting previously unselected package fonts-nanum-coding.\n",
            "Preparing to unpack .../fonts-nanum-coding_2.5-1_all.deb ...\n",
            "Unpacking fonts-nanum-coding (2.5-1) ...\n",
            "Setting up fonts-nanum-extra (20170925-1) ...\n",
            "Setting up fonts-nanum (20170925-1) ...\n",
            "Setting up fonts-nanum-coding (2.5-1) ...\n",
            "Setting up fonts-nanum-eco (1.000-6) ...\n",
            "Processing triggers for fontconfig (2.12.6-0ubuntu2) ...\n"
          ]
        }
      ]
    },
    {
      "cell_type": "code",
      "source": [
        "#설치된 폰트를 확인\n",
        "font_manager.findSystemFonts(fontext='ttf')"
      ],
      "metadata": {
        "colab": {
          "base_uri": "https://localhost:8080/"
        },
        "id": "ISSseiPBRwis",
        "outputId": "29d5a13d-5df3-4b73-a503-46fdf10be454"
      },
      "execution_count": null,
      "outputs": [
        {
          "output_type": "execute_result",
          "data": {
            "text/plain": [
              "['/usr/share/fonts/truetype/nanum/NanumBarunGothicUltraLight.ttf',\n",
              " '/usr/share/fonts/truetype/nanum/NanumMyeongjoBold.ttf',\n",
              " '/usr/share/fonts/truetype/liberation/LiberationSans-Regular.ttf',\n",
              " '/usr/share/fonts/truetype/liberation/LiberationSerif-BoldItalic.ttf',\n",
              " '/usr/share/fonts/truetype/nanum/NanumMyeongjoExtraBold.ttf',\n",
              " '/usr/share/fonts/truetype/liberation/LiberationSansNarrow-Regular.ttf',\n",
              " '/usr/share/fonts/truetype/nanum/NanumMyeongjoEcoExtraBold.ttf',\n",
              " '/usr/share/fonts/truetype/nanum/NanumSquareRoundB.ttf',\n",
              " '/usr/share/fonts/truetype/nanum/NanumMyeongjoEcoBold.ttf',\n",
              " '/usr/share/fonts/truetype/nanum/NanumGothicLight.ttf',\n",
              " '/usr/share/fonts/truetype/nanum/NanumGothicEcoExtraBold.ttf',\n",
              " '/usr/share/fonts/truetype/nanum/NanumSquareR.ttf',\n",
              " '/usr/share/fonts/truetype/nanum/NanumSquareRoundEB.ttf',\n",
              " '/usr/share/fonts/truetype/liberation/LiberationMono-BoldItalic.ttf',\n",
              " '/usr/share/fonts/truetype/nanum/NanumPen.ttf',\n",
              " '/usr/share/fonts/truetype/liberation/LiberationMono-Regular.ttf',\n",
              " '/usr/share/fonts/truetype/liberation/LiberationSerif-Italic.ttf',\n",
              " '/usr/share/fonts/truetype/nanum/NanumGothic.ttf',\n",
              " '/usr/share/fonts/truetype/nanum/NanumBarunGothicBold.ttf',\n",
              " '/usr/share/fonts/truetype/nanum/NanumBarunpenB.ttf',\n",
              " '/usr/share/fonts/truetype/nanum/NanumBarunGothic.ttf',\n",
              " '/usr/share/fonts/truetype/nanum/NanumGothicCoding.ttf',\n",
              " '/usr/share/fonts/truetype/liberation/LiberationMono-Bold.ttf',\n",
              " '/usr/share/fonts/truetype/nanum/NanumSquareL.ttf',\n",
              " '/usr/share/fonts/truetype/nanum/NanumMyeongjo.ttf',\n",
              " '/usr/share/fonts/truetype/nanum/NanumSquareEB.ttf',\n",
              " '/usr/share/fonts/truetype/liberation/LiberationSansNarrow-BoldItalic.ttf',\n",
              " '/usr/share/fonts/truetype/nanum/NanumGothicEcoBold.ttf',\n",
              " '/usr/share/fonts/truetype/liberation/LiberationMono-Italic.ttf',\n",
              " '/usr/share/fonts/truetype/nanum/NanumGothicBold.ttf',\n",
              " '/usr/share/fonts/truetype/liberation/LiberationSans-Bold.ttf',\n",
              " '/usr/share/fonts/truetype/nanum/NanumMyeongjoEco.ttf',\n",
              " '/usr/share/fonts/truetype/liberation/LiberationSans-BoldItalic.ttf',\n",
              " '/usr/share/fonts/truetype/liberation/LiberationSansNarrow-Italic.ttf',\n",
              " '/usr/share/fonts/truetype/liberation/LiberationSerif-Bold.ttf',\n",
              " '/usr/share/fonts/truetype/nanum/NanumBarunGothicLight.ttf',\n",
              " '/usr/share/fonts/truetype/liberation/LiberationSerif-Regular.ttf',\n",
              " '/usr/share/fonts/truetype/liberation/LiberationSans-Italic.ttf',\n",
              " '/usr/share/fonts/truetype/nanum/NanumBrush.ttf',\n",
              " '/usr/share/fonts/truetype/nanum/NanumBarunpenR.ttf',\n",
              " '/usr/share/fonts/truetype/nanum/NanumSquareRoundL.ttf',\n",
              " '/usr/share/fonts/truetype/liberation/LiberationSansNarrow-Bold.ttf',\n",
              " '/usr/share/fonts/truetype/nanum/NanumSquareRoundR.ttf',\n",
              " '/usr/share/fonts/truetype/humor-sans/Humor-Sans.ttf',\n",
              " '/usr/share/fonts/truetype/nanum/NanumGothicExtraBold.ttf',\n",
              " '/usr/share/fonts/truetype/nanum/NanumGothicCoding-Bold.ttf',\n",
              " '/usr/share/fonts/truetype/nanum/NanumSquareB.ttf',\n",
              " '/usr/share/fonts/truetype/nanum/NanumGothicEco.ttf']"
            ]
          },
          "metadata": {},
          "execution_count": 45
        }
      ]
    },
    {
      "cell_type": "code",
      "source": [
        "font_manager.FontProperties( fname='/usr/share/fonts/truetype/nanum/NanumBarunGothicUltraLight.ttf' ) . get_name()"
      ],
      "metadata": {
        "colab": {
          "base_uri": "https://localhost:8080/",
          "height": 35
        },
        "id": "-BRk3Cj1SUXh",
        "outputId": "ed5f9966-b1f3-4492-9590-4e86094a4a7a"
      },
      "execution_count": null,
      "outputs": [
        {
          "output_type": "execute_result",
          "data": {
            "application/vnd.google.colaboratory.intrinsic+json": {
              "type": "string"
            },
            "text/plain": [
              "'NanumBarunGothic'"
            ]
          },
          "metadata": {},
          "execution_count": 48
        }
      ]
    },
    {
      "cell_type": "code",
      "source": [
        "#폰트변경\n",
        "rcParams['font.family'] = 'NanumBarunGothic'\n",
        "# -부호를 위한 설정\n",
        "rcParams['axes.unicode_minus'] = False"
      ],
      "metadata": {
        "id": "wiHMn-uISdyq"
      },
      "execution_count": null,
      "outputs": []
    },
    {
      "cell_type": "markdown",
      "source": [
        "### 런타임 재시작후 아래 코드 실행"
      ],
      "metadata": {
        "id": "tM-hbDeWTTJK"
      }
    },
    {
      "cell_type": "code",
      "source": [
        "from matplotlib import font_manager, rcParams\n",
        "!apt-get install fonts-nanum*\n",
        "rcParams['font.family'] = 'NanumGothicCoding'\n",
        "rcParams['axes.unicode_minus'] = False\n",
        "font_manager._rebuild()"
      ],
      "metadata": {
        "colab": {
          "base_uri": "https://localhost:8080/"
        },
        "id": "JUP4orjHTTY0",
        "outputId": "c6988784-825f-4564-8c2d-ee3cfcebc903"
      },
      "execution_count": null,
      "outputs": [
        {
          "output_type": "stream",
          "name": "stdout",
          "text": [
            "Reading package lists... Done\n",
            "Building dependency tree       \n",
            "Reading state information... Done\n",
            "Note, selecting 'fonts-nanum-eco' for glob 'fonts-nanum*'\n",
            "Note, selecting 'fonts-nanum' for glob 'fonts-nanum*'\n",
            "Note, selecting 'fonts-nanum-gothic-light' for glob 'fonts-nanum*'\n",
            "Note, selecting 'fonts-nanum-coding' for glob 'fonts-nanum*'\n",
            "Note, selecting 'fonts-nanum-extra' for glob 'fonts-nanum*'\n",
            "fonts-nanum is already the newest version (20170925-1).\n",
            "fonts-nanum-coding is already the newest version (2.5-1).\n",
            "fonts-nanum-eco is already the newest version (1.000-6).\n",
            "fonts-nanum-extra is already the newest version (20170925-1).\n",
            "0 upgraded, 0 newly installed, 0 to remove and 37 not upgraded.\n"
          ]
        }
      ]
    },
    {
      "cell_type": "code",
      "source": [
        "x = np.linspace(1, 10, 1000)\n",
        "y = x * x ** 2\n",
        "plt.plot(x, y)\n",
        "plt.title('한글이 나오지 않습니다')"
      ],
      "metadata": {
        "id": "0YhztuljVHyB",
        "outputId": "7b80680c-3cd0-4256-eca9-727d8efcbd36",
        "colab": {
          "base_uri": "https://localhost:8080/",
          "height": 298
        }
      },
      "execution_count": null,
      "outputs": [
        {
          "output_type": "execute_result",
          "data": {
            "text/plain": [
              "Text(0.5, 1.0, '한글이 나오지 않습니다')"
            ]
          },
          "metadata": {},
          "execution_count": 6
        },
        {
          "output_type": "display_data",
          "data": {
            "image/png": "[encoded data removed]",
            "text/plain": [
              "<Figure size 432x288 with 1 Axes>"
            ]
          },
          "metadata": {
            "needs_background": "light"
          }
        }
      ]
    }
  ]
}